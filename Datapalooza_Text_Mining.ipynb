{
  "nbformat": 4,
  "nbformat_minor": 0,
  "metadata": {
    "colab": {
      "provenance": []
    },
    "kernelspec": {
      "name": "python3",
      "display_name": "Python 3"
    },
    "language_info": {
      "name": "python"
    }
  },
  "cells": [
    {
      "cell_type": "markdown",
      "source": [
        "# Datapalooza: Text Mining\n",
        "\n",
        "¡Bienvenidos a Datapalooza UC, edición Text Mining! En este taller de 4 horas, nos introduciremos en el análisis de textos con Python. Naturalmente, el Procesamiento del Lenguaje Natural y el Text Mining son dos técnicas que, en su profundidad, nos tomaría mucho más que 4 horas para explotar todo su potencial. Por esto, los módulos de este taller estarán centrados en que conozcan dos librerías para iniciarse en el Text Mining: [`spaCy`](https://spacy.io/), y su hermano menor, [`textaCy`](https://textacy.readthedocs.io/en/latest/). \n",
        "\n",
        "Con estas librerías, podremos realizar tareas como la obtención de frecuencias léxicas, la extracción de entidades nombradas (NER), colocaciones, etc. Además, con la ayuda de [`pandas`](https://pandas.pydata.org/), podremos lograr la tarea definitiva del Text Mining: transformar **datos no estructurados** (i.e. los textos) en **datos estructurados** (i.e. tablas) que puedan ser analizados y accionados con mayor facilidad.\n",
        "\n",
        "Siguiendo una metodología basada en proyectos, nuestra meta al finalizar el taller será obtener conclusiones a partir de un corpus de entradas de Wikipedia. A lo largo del taller, revisaremos las entradas de tres héroes patrios: José Miguel Carrera, Bernardo O'Higgins y Manuel Rodríguez."
      ],
      "metadata": {
        "id": "4sRnREd7smDw"
      }
    },
    {
      "cell_type": "markdown",
      "source": [
        "**Entrada de José Miguel Carrera**\n",
        "> José Miguel de la Carrera y Verdugo (Santiago, 15 de octubre de 17852​3​-Mendoza, 4 de septiembre de 1821) fue un político y militar chileno, prócer de la emancipación de Chile y destacado participante en las guerras de independencia. Es reconocido como uno de los «padres de la Patria de Chile», jefe de gobierno, el primer general en jefe del Ejército y el primer caudillo en la historia republicana de dicho país, y uno de los primeros de América.4​\n",
        "\n",
        "> Era descendiente de una familia aristocrática hispana y tras servir a las armas del rey de España en contra del ejército de Napoleón, volvió a Chile en julio de 1811. Después de sucesivos golpes de Estado, el 15 de noviembre de dicho año se hizo nombrar presidente de la Junta Provisional de Gobierno de la actualmente llamada Patria Vieja y, tras disolver el Congreso Nacional, asumió plenos poderes el 2 de diciembre. Su gobierno, abiertamente separatista con respecto al aparato estatal de España, tuvo que enfrentar la invasión que el virrey Abascal mandó a realizar desde Talcahuano, desencadenando así la Guerra por la Independencia de Chile."
      ],
      "metadata": {
        "id": "EIsaRqVbvRBv"
      }
    },
    {
      "cell_type": "markdown",
      "source": [
        "¿Cuál será nuestra metodología de trabajo? Primero revisaremos **un poco de teoría detrás del PLN** y las herramientas que utilizaremos el día de hoy. Luego, **nos uniremos en equipos pequeños**, ejecutaremos en equipos análisis exploratorios sobre el corpus de trabajo y finalizaremos (si nos da el tiempo) con una pequeña presentación **exponiendo las conclusiones sobre su corpus** de trabajo."
      ],
      "metadata": {
        "id": "yCCgswxcKZtS"
      }
    },
    {
      "cell_type": "markdown",
      "source": [
        "## Primero lo primero: instalar librerías\n",
        "\n",
        "Algunas de las librerías que utilizaremos hoy no vienen por defecto en Google Colaboratory, por lo que deberemos partir instalándolas. En este ambiente, usaremos la clásia línea de comando `pip install` antecedida por `!`. Como no nos interesa todo lo que imprimen estas instalaciones, usamos `%%capture`."
      ],
      "metadata": {
        "id": "_CJz0adxTxBD"
      }
    },
    {
      "cell_type": "code",
      "execution_count": null,
      "metadata": {
        "id": "Z7EVODlBKY5T"
      },
      "outputs": [],
      "source": [
        "%%capture \n",
        "#!python -m spacy download es_core_news_sm # modelo de tamaño pequeño para el español (12 MB)\n",
        "!python -m spacy download es_core_news_md # modelo de medio tamaño para el español (40 MB)\n",
        "!pip install textacy # herramientas de análisis textual basado en spacy\n",
        "!pip install wikipedia # librería para recuperar fácilmente datos de Wikipedia\n"
      ]
    },
    {
      "cell_type": "markdown",
      "source": [
        "De los comando anteriores, particularmente importante es la línea `!python -m spacy download es_core_news_md`. Con esta línea, estamos instalando el modelo entrenado para el español de tamaño medio. Existen diferentes modelos, con diferentes tamaños y usos. Para este taller, usaremos el `es_core_news_md` por los beneficios en eficiancia de cálculo que provee. La web de [spaCy Models](https://spacy.io/models) tiene la documentación para cada uno de los modelos disponibles."
      ],
      "metadata": {
        "id": "KifuJVWMUbOi"
      }
    },
    {
      "cell_type": "markdown",
      "source": [
        "Dicho eso, cargamos las librerías que utilizaremos en este taller en nuestro ambiente de Colab."
      ],
      "metadata": {
        "id": "XzguNrvoVlNN"
      }
    },
    {
      "cell_type": "code",
      "source": [
        "%%capture\n",
        "import spacy # importa modelos y herramientas de NLP\n",
        "import textacy # importa herramientas de análisis\n",
        "from textacy.extract import keyterms as kt # recuperar keywords con algoritmo YAKE\n",
        "from textacy import extract # extraer estructura oracional\n",
        "import pandas as pd # construir tablas/DataFrame\n",
        "from spacy.tokens import Span # recuperar los span para entidades nombradas\n",
        "from spacy import displacy"
      ],
      "metadata": {
        "id": "mx1Q_PfqOOHg"
      },
      "execution_count": null,
      "outputs": []
    },
    {
      "cell_type": "markdown",
      "source": [
        "## Cargar el modelo nlp de spaCy\n",
        "\n",
        "Uno de los primeros pasos cuando trabajamos textos con `spaCy` es la carga del modelo de NLP. Con la carga de este modelo, en este caso de `es_core_news_md`, cargamos métodos y atributos como el Reconocimiento de Entidades Nombradas, la separación de tokens y oraciones, el vocabulario entrenado, etc. "
      ],
      "metadata": {
        "id": "KgC9CFnKVxFP"
      }
    },
    {
      "cell_type": "code",
      "source": [
        "nlp = spacy.load(\"es_core_news_md\")"
      ],
      "metadata": {
        "id": "G7HBcxSEV1Yh"
      },
      "execution_count": null,
      "outputs": []
    },
    {
      "cell_type": "markdown",
      "source": [
        "## Un primer vistazo al uso de `nlp`\n",
        "\n",
        "Ya con nuestro modelo cargado, podemos hacer un primer uso de este. Por ejemplo, el texto sobre José Miguel Carrera y Verdugo podemos procesarlo para observar cuáles entidades están siendo nombradas, y así categorizarlas (e.g. `PERSONA`, `LOCACION`, `MISCELANEO`).\n",
        "\n",
        "Para esto, solo almacenamos el texto crudo en una variable `TEXTO`y se la pasamos al modelo cargado `nlp(TEXTO)`:\n",
        "\n",
        "> José Miguel de la Carrera y Verdugo (Santiago, 15 de octubre de 1785 ​- Mendoza, 4 de septiembre de 1821) fue un político y militar chileno, prócer de la emancipación de Chile y destacado participante en las guerras de independencia. Es reconocido como uno de los «padres de la Patria de Chile», jefe de gobierno, el primer general en jefe del Ejército y el primer caudillo en la historia republicana de dicho país, y uno de los primeros de América."
      ],
      "metadata": {
        "id": "RMX22DW6Xa8z"
      }
    },
    {
      "cell_type": "code",
      "source": [
        "TEXTO = \"José Miguel de la Carrera y Verdugo (Santiago, 15 de octubre de 1785 ​- Mendoza, 4 de septiembre de 1821) fue un político y militar chileno, prócer de la emancipación de Chile y destacado participante en las guerras de independencia. Es reconocido como uno de los «padres de la Patria de Chile», jefe de gobierno, el primer general en jefe del Ejército y el primer caudillo en la historia republicana de dicho país, y uno de los primeros de América.\"\n",
        "doc = nlp(TEXTO)\n",
        "\n",
        "for ent in doc.ents:\n",
        "  print(ent.text, ent.label_)"
      ],
      "metadata": {
        "colab": {
          "base_uri": "https://localhost:8080/"
        },
        "id": "_4WW4y0KXbQL",
        "outputId": "bfdca82f-bc5c-4854-9857-7c0944b52c80"
      },
      "execution_count": null,
      "outputs": [
        {
          "output_type": "stream",
          "name": "stdout",
          "text": [
            "José Miguel de la Carrera y Verdugo PER\n",
            "Santiago LOC\n",
            "Mendoza LOC\n",
            "Chile LOC\n",
            "Patria de Chile MISC\n",
            "Ejército MISC\n",
            "América LOC\n"
          ]
        }
      ]
    },
    {
      "cell_type": "markdown",
      "source": [
        "Si bien está etiquetado y sabemos que, por ejemplo, _América_ es una `LOCACION`, sigue siendo texto crudo y difícil de procesar por el computador. Ante esto, siempre podemos transformar nuestros datos en un `DataFrame` con `pandas`."
      ],
      "metadata": {
        "id": "ZMmJD1XjZGNt"
      }
    },
    {
      "cell_type": "code",
      "source": [
        "carrera_verdugo = []\n",
        "for ent in doc.ents:\n",
        "  carrera_verdugo.append(\n",
        "      {\n",
        "          \"texto\": ent.text,\n",
        "          \"entidad\": ent.label_\n",
        "      }\n",
        "  )\n",
        "  \n",
        "carrera_verdugo_df = pd.DataFrame(carrera_verdugo)\n",
        "carrera_verdugo_df"
      ],
      "metadata": {
        "colab": {
          "base_uri": "https://localhost:8080/",
          "height": 268
        },
        "id": "i02ngvc8ZbUm",
        "outputId": "5aeb03af-0fef-4fe0-fce8-9cc5600ddf3b"
      },
      "execution_count": null,
      "outputs": [
        {
          "output_type": "execute_result",
          "data": {
            "text/plain": [
              "                                 texto entidad\n",
              "0  José Miguel de la Carrera y Verdugo     PER\n",
              "1                             Santiago     LOC\n",
              "2                              Mendoza     LOC\n",
              "3                                Chile     LOC\n",
              "4                      Patria de Chile    MISC\n",
              "5                             Ejército    MISC\n",
              "6                              América     LOC"
            ],
            "text/html": [
              "\n",
              "  <div id=\"df-9cc93bbd-e6b4-4f29-9469-982099a1648d\">\n",
              "    <div class=\"colab-df-container\">\n",
              "      <div>\n",
              "<style scoped>\n",
              "    .dataframe tbody tr th:only-of-type {\n",
              "        vertical-align: middle;\n",
              "    }\n",
              "\n",
              "    .dataframe tbody tr th {\n",
              "        vertical-align: top;\n",
              "    }\n",
              "\n",
              "    .dataframe thead th {\n",
              "        text-align: right;\n",
              "    }\n",
              "</style>\n",
              "<table border=\"1\" class=\"dataframe\">\n",
              "  <thead>\n",
              "    <tr style=\"text-align: right;\">\n",
              "      <th></th>\n",
              "      <th>texto</th>\n",
              "      <th>entidad</th>\n",
              "    </tr>\n",
              "  </thead>\n",
              "  <tbody>\n",
              "    <tr>\n",
              "      <th>0</th>\n",
              "      <td>José Miguel de la Carrera y Verdugo</td>\n",
              "      <td>PER</td>\n",
              "    </tr>\n",
              "    <tr>\n",
              "      <th>1</th>\n",
              "      <td>Santiago</td>\n",
              "      <td>LOC</td>\n",
              "    </tr>\n",
              "    <tr>\n",
              "      <th>2</th>\n",
              "      <td>Mendoza</td>\n",
              "      <td>LOC</td>\n",
              "    </tr>\n",
              "    <tr>\n",
              "      <th>3</th>\n",
              "      <td>Chile</td>\n",
              "      <td>LOC</td>\n",
              "    </tr>\n",
              "    <tr>\n",
              "      <th>4</th>\n",
              "      <td>Patria de Chile</td>\n",
              "      <td>MISC</td>\n",
              "    </tr>\n",
              "    <tr>\n",
              "      <th>5</th>\n",
              "      <td>Ejército</td>\n",
              "      <td>MISC</td>\n",
              "    </tr>\n",
              "    <tr>\n",
              "      <th>6</th>\n",
              "      <td>América</td>\n",
              "      <td>LOC</td>\n",
              "    </tr>\n",
              "  </tbody>\n",
              "</table>\n",
              "</div>\n",
              "      <button class=\"colab-df-convert\" onclick=\"convertToInteractive('df-9cc93bbd-e6b4-4f29-9469-982099a1648d')\"\n",
              "              title=\"Convert this dataframe to an interactive table.\"\n",
              "              style=\"display:none;\">\n",
              "        \n",
              "  <svg xmlns=\"http://www.w3.org/2000/svg\" height=\"24px\"viewBox=\"0 0 24 24\"\n",
              "       width=\"24px\">\n",
              "    <path d=\"M0 0h24v24H0V0z\" fill=\"none\"/>\n",
              "    <path d=\"M18.56 5.44l.94 2.06.94-2.06 2.06-.94-2.06-.94-.94-2.06-.94 2.06-2.06.94zm-11 1L8.5 8.5l.94-2.06 2.06-.94-2.06-.94L8.5 2.5l-.94 2.06-2.06.94zm10 10l.94 2.06.94-2.06 2.06-.94-2.06-.94-.94-2.06-.94 2.06-2.06.94z\"/><path d=\"M17.41 7.96l-1.37-1.37c-.4-.4-.92-.59-1.43-.59-.52 0-1.04.2-1.43.59L10.3 9.45l-7.72 7.72c-.78.78-.78 2.05 0 2.83L4 21.41c.39.39.9.59 1.41.59.51 0 1.02-.2 1.41-.59l7.78-7.78 2.81-2.81c.8-.78.8-2.07 0-2.86zM5.41 20L4 18.59l7.72-7.72 1.47 1.35L5.41 20z\"/>\n",
              "  </svg>\n",
              "      </button>\n",
              "      \n",
              "  <style>\n",
              "    .colab-df-container {\n",
              "      display:flex;\n",
              "      flex-wrap:wrap;\n",
              "      gap: 12px;\n",
              "    }\n",
              "\n",
              "    .colab-df-convert {\n",
              "      background-color: #E8F0FE;\n",
              "      border: none;\n",
              "      border-radius: 50%;\n",
              "      cursor: pointer;\n",
              "      display: none;\n",
              "      fill: #1967D2;\n",
              "      height: 32px;\n",
              "      padding: 0 0 0 0;\n",
              "      width: 32px;\n",
              "    }\n",
              "\n",
              "    .colab-df-convert:hover {\n",
              "      background-color: #E2EBFA;\n",
              "      box-shadow: 0px 1px 2px rgba(60, 64, 67, 0.3), 0px 1px 3px 1px rgba(60, 64, 67, 0.15);\n",
              "      fill: #174EA6;\n",
              "    }\n",
              "\n",
              "    [theme=dark] .colab-df-convert {\n",
              "      background-color: #3B4455;\n",
              "      fill: #D2E3FC;\n",
              "    }\n",
              "\n",
              "    [theme=dark] .colab-df-convert:hover {\n",
              "      background-color: #434B5C;\n",
              "      box-shadow: 0px 1px 3px 1px rgba(0, 0, 0, 0.15);\n",
              "      filter: drop-shadow(0px 1px 2px rgba(0, 0, 0, 0.3));\n",
              "      fill: #FFFFFF;\n",
              "    }\n",
              "  </style>\n",
              "\n",
              "      <script>\n",
              "        const buttonEl =\n",
              "          document.querySelector('#df-9cc93bbd-e6b4-4f29-9469-982099a1648d button.colab-df-convert');\n",
              "        buttonEl.style.display =\n",
              "          google.colab.kernel.accessAllowed ? 'block' : 'none';\n",
              "\n",
              "        async function convertToInteractive(key) {\n",
              "          const element = document.querySelector('#df-9cc93bbd-e6b4-4f29-9469-982099a1648d');\n",
              "          const dataTable =\n",
              "            await google.colab.kernel.invokeFunction('convertToInteractive',\n",
              "                                                     [key], {});\n",
              "          if (!dataTable) return;\n",
              "\n",
              "          const docLinkHtml = 'Like what you see? Visit the ' +\n",
              "            '<a target=\"_blank\" href=https://colab.research.google.com/notebooks/data_table.ipynb>data table notebook</a>'\n",
              "            + ' to learn more about interactive tables.';\n",
              "          element.innerHTML = '';\n",
              "          dataTable['output_type'] = 'display_data';\n",
              "          await google.colab.output.renderOutput(dataTable, element);\n",
              "          const docLink = document.createElement('div');\n",
              "          docLink.innerHTML = docLinkHtml;\n",
              "          element.appendChild(docLink);\n",
              "        }\n",
              "      </script>\n",
              "    </div>\n",
              "  </div>\n",
              "  "
            ]
          },
          "metadata": {},
          "execution_count": 6
        }
      ]
    },
    {
      "cell_type": "code",
      "source": [
        "pd.DataFrame(carrera_verdugo_df).value_counts(\"entidad\")"
      ],
      "metadata": {
        "colab": {
          "base_uri": "https://localhost:8080/"
        },
        "id": "Cjz63ga8-XRF",
        "outputId": "f0d9b8ba-f2da-4ba4-e079-01f5f91796c9"
      },
      "execution_count": null,
      "outputs": [
        {
          "output_type": "execute_result",
          "data": {
            "text/plain": [
              "entidad\n",
              "LOC     4\n",
              "MISC    2\n",
              "PER     1\n",
              "dtype: int64"
            ]
          },
          "metadata": {},
          "execution_count": 7
        }
      ]
    },
    {
      "cell_type": "markdown",
      "source": [
        "Para esta breve introducción de José Miguel Carrera, vemos que se nombran 4 `LOC`, 2 `MISC` y solo 1 `PER`: _José Miguel Carrera_. No es de sorprender, considerando que es el primer párrafo de Wikipedia sobre el libertador, todo se centra en él, dónde y cuándo nació y una que otra información relevante ¿Pero qué pasa si vemos su página completa?"
      ],
      "metadata": {
        "id": "ApfY65hxdAcF"
      }
    },
    {
      "cell_type": "code",
      "source": [
        "import wikipedia\n",
        "wikipedia.set_lang(\"es\")\n",
        "jmc_wiki = wikipedia.page(\"José Miguel Carrera\")\n",
        "doc = nlp(jmc_wiki.content)\n",
        "\n",
        "carrera_verdugo = []\n",
        "for ent in doc.ents:\n",
        "  carrera_verdugo.append(\n",
        "      {\n",
        "          \"texto\": ent.text,\n",
        "          \"entidad\": ent.label_\n",
        "      }\n",
        "  )\n",
        "\n",
        "carrera_verdugo_df = pd.DataFrame(carrera_verdugo)\n",
        "carrera_verdugo_df"
      ],
      "metadata": {
        "colab": {
          "base_uri": "https://localhost:8080/",
          "height": 423
        },
        "id": "NIXyF2DMb_nR",
        "outputId": "b037f038-512b-474f-b194-3e9afa492919"
      },
      "execution_count": null,
      "outputs": [
        {
          "output_type": "execute_result",
          "data": {
            "text/plain": [
              "                                                texto entidad\n",
              "0                 José Miguel de la Carrera y Verdugo     PER\n",
              "1                                            Santiago     LOC\n",
              "2                                               Chile     LOC\n",
              "3                                     Patria de Chile    MISC\n",
              "4                                            Ejército    MISC\n",
              "..                                                ...     ...\n",
              "862                         José Miguel Carrera.\\n\\n      PER\n",
              "863                                         Wikiquote    MISC\n",
              "864                               José Miguel Carrera     PER\n",
              "865  Instituto de Investigaciones Históricas \"General     ORG\n",
              "866                       José Miguel Carrera Verdugo     PER\n",
              "\n",
              "[867 rows x 2 columns]"
            ],
            "text/html": [
              "\n",
              "  <div id=\"df-ce5ec68b-50d0-4bbd-b4be-aafdd33e9f70\">\n",
              "    <div class=\"colab-df-container\">\n",
              "      <div>\n",
              "<style scoped>\n",
              "    .dataframe tbody tr th:only-of-type {\n",
              "        vertical-align: middle;\n",
              "    }\n",
              "\n",
              "    .dataframe tbody tr th {\n",
              "        vertical-align: top;\n",
              "    }\n",
              "\n",
              "    .dataframe thead th {\n",
              "        text-align: right;\n",
              "    }\n",
              "</style>\n",
              "<table border=\"1\" class=\"dataframe\">\n",
              "  <thead>\n",
              "    <tr style=\"text-align: right;\">\n",
              "      <th></th>\n",
              "      <th>texto</th>\n",
              "      <th>entidad</th>\n",
              "    </tr>\n",
              "  </thead>\n",
              "  <tbody>\n",
              "    <tr>\n",
              "      <th>0</th>\n",
              "      <td>José Miguel de la Carrera y Verdugo</td>\n",
              "      <td>PER</td>\n",
              "    </tr>\n",
              "    <tr>\n",
              "      <th>1</th>\n",
              "      <td>Santiago</td>\n",
              "      <td>LOC</td>\n",
              "    </tr>\n",
              "    <tr>\n",
              "      <th>2</th>\n",
              "      <td>Chile</td>\n",
              "      <td>LOC</td>\n",
              "    </tr>\n",
              "    <tr>\n",
              "      <th>3</th>\n",
              "      <td>Patria de Chile</td>\n",
              "      <td>MISC</td>\n",
              "    </tr>\n",
              "    <tr>\n",
              "      <th>4</th>\n",
              "      <td>Ejército</td>\n",
              "      <td>MISC</td>\n",
              "    </tr>\n",
              "    <tr>\n",
              "      <th>...</th>\n",
              "      <td>...</td>\n",
              "      <td>...</td>\n",
              "    </tr>\n",
              "    <tr>\n",
              "      <th>862</th>\n",
              "      <td>José Miguel Carrera.\\n\\n</td>\n",
              "      <td>PER</td>\n",
              "    </tr>\n",
              "    <tr>\n",
              "      <th>863</th>\n",
              "      <td>Wikiquote</td>\n",
              "      <td>MISC</td>\n",
              "    </tr>\n",
              "    <tr>\n",
              "      <th>864</th>\n",
              "      <td>José Miguel Carrera</td>\n",
              "      <td>PER</td>\n",
              "    </tr>\n",
              "    <tr>\n",
              "      <th>865</th>\n",
              "      <td>Instituto de Investigaciones Históricas \"General</td>\n",
              "      <td>ORG</td>\n",
              "    </tr>\n",
              "    <tr>\n",
              "      <th>866</th>\n",
              "      <td>José Miguel Carrera Verdugo</td>\n",
              "      <td>PER</td>\n",
              "    </tr>\n",
              "  </tbody>\n",
              "</table>\n",
              "<p>867 rows × 2 columns</p>\n",
              "</div>\n",
              "      <button class=\"colab-df-convert\" onclick=\"convertToInteractive('df-ce5ec68b-50d0-4bbd-b4be-aafdd33e9f70')\"\n",
              "              title=\"Convert this dataframe to an interactive table.\"\n",
              "              style=\"display:none;\">\n",
              "        \n",
              "  <svg xmlns=\"http://www.w3.org/2000/svg\" height=\"24px\"viewBox=\"0 0 24 24\"\n",
              "       width=\"24px\">\n",
              "    <path d=\"M0 0h24v24H0V0z\" fill=\"none\"/>\n",
              "    <path d=\"M18.56 5.44l.94 2.06.94-2.06 2.06-.94-2.06-.94-.94-2.06-.94 2.06-2.06.94zm-11 1L8.5 8.5l.94-2.06 2.06-.94-2.06-.94L8.5 2.5l-.94 2.06-2.06.94zm10 10l.94 2.06.94-2.06 2.06-.94-2.06-.94-.94-2.06-.94 2.06-2.06.94z\"/><path d=\"M17.41 7.96l-1.37-1.37c-.4-.4-.92-.59-1.43-.59-.52 0-1.04.2-1.43.59L10.3 9.45l-7.72 7.72c-.78.78-.78 2.05 0 2.83L4 21.41c.39.39.9.59 1.41.59.51 0 1.02-.2 1.41-.59l7.78-7.78 2.81-2.81c.8-.78.8-2.07 0-2.86zM5.41 20L4 18.59l7.72-7.72 1.47 1.35L5.41 20z\"/>\n",
              "  </svg>\n",
              "      </button>\n",
              "      \n",
              "  <style>\n",
              "    .colab-df-container {\n",
              "      display:flex;\n",
              "      flex-wrap:wrap;\n",
              "      gap: 12px;\n",
              "    }\n",
              "\n",
              "    .colab-df-convert {\n",
              "      background-color: #E8F0FE;\n",
              "      border: none;\n",
              "      border-radius: 50%;\n",
              "      cursor: pointer;\n",
              "      display: none;\n",
              "      fill: #1967D2;\n",
              "      height: 32px;\n",
              "      padding: 0 0 0 0;\n",
              "      width: 32px;\n",
              "    }\n",
              "\n",
              "    .colab-df-convert:hover {\n",
              "      background-color: #E2EBFA;\n",
              "      box-shadow: 0px 1px 2px rgba(60, 64, 67, 0.3), 0px 1px 3px 1px rgba(60, 64, 67, 0.15);\n",
              "      fill: #174EA6;\n",
              "    }\n",
              "\n",
              "    [theme=dark] .colab-df-convert {\n",
              "      background-color: #3B4455;\n",
              "      fill: #D2E3FC;\n",
              "    }\n",
              "\n",
              "    [theme=dark] .colab-df-convert:hover {\n",
              "      background-color: #434B5C;\n",
              "      box-shadow: 0px 1px 3px 1px rgba(0, 0, 0, 0.15);\n",
              "      filter: drop-shadow(0px 1px 2px rgba(0, 0, 0, 0.3));\n",
              "      fill: #FFFFFF;\n",
              "    }\n",
              "  </style>\n",
              "\n",
              "      <script>\n",
              "        const buttonEl =\n",
              "          document.querySelector('#df-ce5ec68b-50d0-4bbd-b4be-aafdd33e9f70 button.colab-df-convert');\n",
              "        buttonEl.style.display =\n",
              "          google.colab.kernel.accessAllowed ? 'block' : 'none';\n",
              "\n",
              "        async function convertToInteractive(key) {\n",
              "          const element = document.querySelector('#df-ce5ec68b-50d0-4bbd-b4be-aafdd33e9f70');\n",
              "          const dataTable =\n",
              "            await google.colab.kernel.invokeFunction('convertToInteractive',\n",
              "                                                     [key], {});\n",
              "          if (!dataTable) return;\n",
              "\n",
              "          const docLinkHtml = 'Like what you see? Visit the ' +\n",
              "            '<a target=\"_blank\" href=https://colab.research.google.com/notebooks/data_table.ipynb>data table notebook</a>'\n",
              "            + ' to learn more about interactive tables.';\n",
              "          element.innerHTML = '';\n",
              "          dataTable['output_type'] = 'display_data';\n",
              "          await google.colab.output.renderOutput(dataTable, element);\n",
              "          const docLink = document.createElement('div');\n",
              "          docLink.innerHTML = docLinkHtml;\n",
              "          element.appendChild(docLink);\n",
              "        }\n",
              "      </script>\n",
              "    </div>\n",
              "  </div>\n",
              "  "
            ]
          },
          "metadata": {},
          "execution_count": 8
        }
      ]
    },
    {
      "cell_type": "code",
      "source": [
        "carrera_verdugo_df.value_counts(\"entidad\").head(15)"
      ],
      "metadata": {
        "colab": {
          "base_uri": "https://localhost:8080/"
        },
        "id": "WRTyFAchdn_i",
        "outputId": "0f298003-a035-4ce7-f279-d24e3cceddf3"
      },
      "execution_count": null,
      "outputs": [
        {
          "output_type": "execute_result",
          "data": {
            "text/plain": [
              "entidad\n",
              "PER     405\n",
              "LOC     259\n",
              "MISC    138\n",
              "ORG      65\n",
              "dtype: int64"
            ]
          },
          "metadata": {},
          "execution_count": 9
        }
      ]
    },
    {
      "cell_type": "code",
      "source": [
        "carrera_verdugo_df.value_counts(\"texto\").head(15)"
      ],
      "metadata": {
        "colab": {
          "base_uri": "https://localhost:8080/"
        },
        "id": "PoF7mmOIhmfb",
        "outputId": "b0b4097f-c018-48ee-aed3-312a66708eba"
      },
      "execution_count": null,
      "outputs": [
        {
          "output_type": "execute_result",
          "data": {
            "text/plain": [
              "texto\n",
              "Carrera                84\n",
              "Chile                  38\n",
              "José Miguel            19\n",
              "San Martín             17\n",
              "Alvear                 15\n",
              "Mendoza                13\n",
              "José Miguel Carrera    13\n",
              "Argentina              12\n",
              "O'Higgins              10\n",
              "Santiago               10\n",
              "Juan José               9\n",
              "Buenos Aires            9\n",
              "Montevideo              9\n",
              "Luis                    9\n",
              "Manuel Rodríguez        8\n",
              "dtype: int64"
            ]
          },
          "metadata": {},
          "execution_count": 10
        }
      ]
    },
    {
      "cell_type": "code",
      "source": [
        "def get_ngrams(doc, ngram=2, min_freq=5):\n",
        "  ngrams = list(textacy.extract.basics.ngrams(doc, ngram, min_freq=min_freq))\n",
        "  ngrama = []\n",
        "\n",
        "  for ngram in ngrams:\n",
        "    words = \"\".join(str(ngram))\n",
        "    if words != \"==\":\n",
        "      ngrama.append(\n",
        "          {\n",
        "              \"ngram\": words\n",
        "          }\n",
        "      )\n",
        "  return ngrama\n",
        "\n",
        "ngramas = get_ngrams(doc, ngram=5, min_freq=1)\n",
        "pd.DataFrame(ngramas).value_counts(\"ngram\")"
      ],
      "metadata": {
        "colab": {
          "base_uri": "https://localhost:8080/"
        },
        "id": "JsvhJU6LkwDy",
        "outputId": "c7b1a76a-b938-4a7a-d4ed-f44b4840b22b"
      },
      "execution_count": null,
      "outputs": [
        {
          "output_type": "execute_result",
          "data": {
            "text/plain": [
              "ngram\n",
              "Golpe de Estado de José                 2\n",
              "Director Supremo de las Provincias      2\n",
              "Supremo de las Provincias Unidas        2\n",
              "Argentina ====                          2\n",
              "José Miguel de la Carrera               2\n",
              "                                       ..\n",
              "autoridad -y posiblemente del deseo-    1\n",
              "autores que dudan del republicanismo    1\n",
              "autonomía dentro del Imperio español    1\n",
              "ausencia del regimiento del combate     1\n",
              "única solución era ese golpe            1\n",
              "Length: 1184, dtype: int64"
            ]
          },
          "metadata": {},
          "execution_count": 14
        }
      ]
    },
    {
      "cell_type": "markdown",
      "source": [
        "Con su página completa, vemos como la tendencia inicial cambia radicalmente. Ahora, la presencia de `PER` se hace evidente, casi duplicando `LOC`, algo esperable de un corpus histórico como este. Además, entidades `MISC` como _Guerra por la Independencia de Chile_ o _Patria Vieja_ aparecen y, si bien son reconoidas como entidades relevantes, la etiqueta es poco informativa. Una aplicación que analice y conecte personas y eventos históricos, como periodos o guerra, podría entrenar el modelo con una etiqueta nueva como `{\"GUERRA\": \"Guerra por la Independencia de Chile}` o `{\"PERIODO\": \"Patria Vieja\"}`. \n",
        "\n",
        "Otra cosa que salta a la vista son los errores de etiquetado, como _Después_ etiquetado como `MISC`, o la debatible clasificación de _Congreso Nacional_ como `LOC` en lugar de `ORG`."
      ],
      "metadata": {
        "id": "P9_GNezNd--z"
      }
    },
    {
      "cell_type": "markdown",
      "source": [
        "### Ejercicio 1: explora otro corpus de Wikipedia y observa sus entidades nombradas\n",
        "\n",
        "1.   ¿Cómo se comportan las entidades nombradas entre páginas de sobre temas diferentes a la historia/biografías?\n",
        "2.   ¿En qué contextos las entidades `MISC` podrían ser recategorizadas? ¿Qué caso de uso se les ocurre con los `MISC` de sus corpus?\n",
        "\n"
      ],
      "metadata": {
        "id": "UWEWdQeSfPa7"
      }
    },
    {
      "cell_type": "code",
      "source": [
        "# Trabaja en esta celda. Si lo necesitas, puedes añadir más celdas para procesar los conteos\n",
        "tu_wiki_page = wikipedia.page(\"_____\")\n",
        "\n",
        "doc = nlp(______)\n",
        "tu_wiki_page_array = []\n",
        "for ent in doc.ents:\n",
        "  tu_wiki_page_array.append(\n",
        "      {\n",
        "          \"texto\": ent.text,\n",
        "          \"entidad\": ent.______\n",
        "      }\n",
        "  )\n",
        "  \n",
        "_____ = pd.DataFrame(_____)\n",
        "______.head(20)"
      ],
      "metadata": {
        "id": "__D81QTpfWQ-",
        "colab": {
          "base_uri": "https://localhost:8080/",
          "height": 433
        },
        "outputId": "fd2857cc-0d52-43f9-9e9c-6e87509878d6"
      },
      "execution_count": null,
      "outputs": [
        {
          "output_type": "error",
          "ename": "PageError",
          "evalue": "ignored",
          "traceback": [
            "\u001b[0;31m---------------------------------------------------------------------------\u001b[0m",
            "\u001b[0;31mIndexError\u001b[0m                                Traceback (most recent call last)",
            "\u001b[0;32m/usr/local/lib/python3.8/dist-packages/wikipedia/wikipedia.py\u001b[0m in \u001b[0;36mpage\u001b[0;34m(title, pageid, auto_suggest, redirect, preload)\u001b[0m\n\u001b[1;32m    271\u001b[0m       \u001b[0;32mtry\u001b[0m\u001b[0;34m:\u001b[0m\u001b[0;34m\u001b[0m\u001b[0;34m\u001b[0m\u001b[0m\n\u001b[0;32m--> 272\u001b[0;31m         \u001b[0mtitle\u001b[0m \u001b[0;34m=\u001b[0m \u001b[0msuggestion\u001b[0m \u001b[0;32mor\u001b[0m \u001b[0mresults\u001b[0m\u001b[0;34m[\u001b[0m\u001b[0;36m0\u001b[0m\u001b[0;34m]\u001b[0m\u001b[0;34m\u001b[0m\u001b[0;34m\u001b[0m\u001b[0m\n\u001b[0m\u001b[1;32m    273\u001b[0m       \u001b[0;32mexcept\u001b[0m \u001b[0mIndexError\u001b[0m\u001b[0;34m:\u001b[0m\u001b[0;34m\u001b[0m\u001b[0;34m\u001b[0m\u001b[0m\n",
            "\u001b[0;31mIndexError\u001b[0m: list index out of range",
            "\nDuring handling of the above exception, another exception occurred:\n",
            "\u001b[0;31mPageError\u001b[0m                                 Traceback (most recent call last)",
            "\u001b[0;32m<ipython-input-12-b34a6bed4a31>\u001b[0m in \u001b[0;36m<module>\u001b[0;34m\u001b[0m\n\u001b[1;32m      1\u001b[0m \u001b[0;31m# Trabaja en esta celda. Si lo necesitas, puedes añadir más celdas para procesar los conteos\u001b[0m\u001b[0;34m\u001b[0m\u001b[0;34m\u001b[0m\u001b[0;34m\u001b[0m\u001b[0m\n\u001b[0;32m----> 2\u001b[0;31m \u001b[0mtu_wiki_page\u001b[0m \u001b[0;34m=\u001b[0m \u001b[0mwikipedia\u001b[0m\u001b[0;34m.\u001b[0m\u001b[0mpage\u001b[0m\u001b[0;34m(\u001b[0m\u001b[0;34m\"_____\"\u001b[0m\u001b[0;34m)\u001b[0m\u001b[0;34m\u001b[0m\u001b[0;34m\u001b[0m\u001b[0m\n\u001b[0m\u001b[1;32m      3\u001b[0m \u001b[0;34m\u001b[0m\u001b[0m\n\u001b[1;32m      4\u001b[0m \u001b[0mdoc\u001b[0m \u001b[0;34m=\u001b[0m \u001b[0mnlp\u001b[0m\u001b[0;34m(\u001b[0m\u001b[0m______\u001b[0m\u001b[0;34m)\u001b[0m\u001b[0;34m\u001b[0m\u001b[0;34m\u001b[0m\u001b[0m\n\u001b[1;32m      5\u001b[0m \u001b[0mtu_wiki_page_array\u001b[0m \u001b[0;34m=\u001b[0m \u001b[0;34m[\u001b[0m\u001b[0;34m]\u001b[0m\u001b[0;34m\u001b[0m\u001b[0;34m\u001b[0m\u001b[0m\n",
            "\u001b[0;32m/usr/local/lib/python3.8/dist-packages/wikipedia/wikipedia.py\u001b[0m in \u001b[0;36mpage\u001b[0;34m(title, pageid, auto_suggest, redirect, preload)\u001b[0m\n\u001b[1;32m    273\u001b[0m       \u001b[0;32mexcept\u001b[0m \u001b[0mIndexError\u001b[0m\u001b[0;34m:\u001b[0m\u001b[0;34m\u001b[0m\u001b[0;34m\u001b[0m\u001b[0m\n\u001b[1;32m    274\u001b[0m         \u001b[0;31m# if there is no suggestion or search results, the page doesn't exist\u001b[0m\u001b[0;34m\u001b[0m\u001b[0;34m\u001b[0m\u001b[0;34m\u001b[0m\u001b[0m\n\u001b[0;32m--> 275\u001b[0;31m         \u001b[0;32mraise\u001b[0m \u001b[0mPageError\u001b[0m\u001b[0;34m(\u001b[0m\u001b[0mtitle\u001b[0m\u001b[0;34m)\u001b[0m\u001b[0;34m\u001b[0m\u001b[0;34m\u001b[0m\u001b[0m\n\u001b[0m\u001b[1;32m    276\u001b[0m     \u001b[0;32mreturn\u001b[0m \u001b[0mWikipediaPage\u001b[0m\u001b[0;34m(\u001b[0m\u001b[0mtitle\u001b[0m\u001b[0;34m,\u001b[0m \u001b[0mredirect\u001b[0m\u001b[0;34m=\u001b[0m\u001b[0mredirect\u001b[0m\u001b[0;34m,\u001b[0m \u001b[0mpreload\u001b[0m\u001b[0;34m=\u001b[0m\u001b[0mpreload\u001b[0m\u001b[0;34m)\u001b[0m\u001b[0;34m\u001b[0m\u001b[0;34m\u001b[0m\u001b[0m\n\u001b[1;32m    277\u001b[0m   \u001b[0;32melif\u001b[0m \u001b[0mpageid\u001b[0m \u001b[0;32mis\u001b[0m \u001b[0;32mnot\u001b[0m \u001b[0;32mNone\u001b[0m\u001b[0;34m:\u001b[0m\u001b[0;34m\u001b[0m\u001b[0;34m\u001b[0m\u001b[0m\n",
            "\u001b[0;31mPageError\u001b[0m: Page id \"_____\" does not match any pages. Try another id!"
          ]
        }
      ]
    },
    {
      "cell_type": "markdown",
      "source": [
        "## ¿Y si queremos entidades personalizadas?\n",
        "\n",
        "El poder de spaCy radica en la flexibilidad que nos entrega. En términos de NLP, los modelos para el inglés funcionan increiblemente bien y logran clasificar con muy buenos resultados. Esto hace necesario que, en español, podemos entrenar las entidades que son de nuestro interés y uso particular. Una buena herramienta para crear patrones es el [Rule-based Matcher Explorer](https://demos.explosion.ai/matcher?text=Battle%20of%20Chacabuco&model=en_core_web_sm&pattern=%5B%7B%22id%22%3A0%2C%22attrs%22%3A%5B%7B%22name%22%3A%22LOWER%22%2C%22value%22%3A%22battle%22%7D%5D%7D%2C%7B%22id%22%3A1%2C%22attrs%22%3A%5B%7B%22name%22%3A%22POS%22%2C%22value%22%3A%22ADP%22%7D%5D%7D%2C%7B%22id%22%3A2%2C%22attrs%22%3A%5B%7B%22name%22%3A%22POS%22%2C%22value%22%3A%22PROPN%22%7D%5D%7D%5D). En su [documentación](https://demos.explosion.ai/matcher?text=Battle%20of%20Chacabuco&model=en_core_web_sm&pattern=%5B%7B%22id%22%3A0%2C%22attrs%22%3A%5B%7B%22name%22%3A%22LOWER%22%2C%22value%22%3A%22battle%22%7D%5D%7D%2C%7B%22id%22%3A1%2C%22attrs%22%3A%5B%7B%22name%22%3A%22POS%22%2C%22value%22%3A%22ADP%22%7D%5D%7D%2C%7B%22id%22%3A2%2C%22attrs%22%3A%5B%7B%22name%22%3A%22POS%22%2C%22value%22%3A%22PROPN%22%7D%5D%7D%5D) podrán encontrar toda la información sobre los tipos de patrones reconocibles, y también pueden apoyarse en [displaCy](https://demos.explosion.ai/displacy) para reconocer los POS (Part-Of-Speech).\n",
        "\n",
        "En este punto, **es muy útil recordar nuestras clases de gramática del colegio y repasar las categorías gramaticales principales**. Para esto, usemos displaCy.\n"
      ],
      "metadata": {
        "id": "GAnVnK5R--L2"
      }
    },
    {
      "cell_type": "code",
      "source": [
        "TEXTO = \"¡Hey!, esta oración tiene muchos verbos bonitos por espacio, ¿pero tiene preposiciones?\"\n",
        "doc = nlp(TEXTO)\n",
        "\n",
        "displacy.render(doc, style='dep', jupyter=True, options={'distance': 90})"
      ],
      "metadata": {
        "colab": {
          "base_uri": "https://localhost:8080/",
          "height": 313
        },
        "id": "afcRJ0aMdB8d",
        "outputId": "ac062528-dfb2-4674-832b-5107fe81e08e"
      },
      "execution_count": null,
      "outputs": [
        {
          "output_type": "display_data",
          "data": {
            "text/plain": [
              "<IPython.core.display.HTML object>"
            ],
            "text/html": [
              "<span class=\"tex2jax_ignore\"><svg xmlns=\"http://www.w3.org/2000/svg\" xmlns:xlink=\"http://www.w3.org/1999/xlink\" xml:lang=\"es\" id=\"f7a29c2fbc8846cea8c2f90da9eca580-0\" class=\"displacy\" width=\"1220\" height=\"272.0\" direction=\"ltr\" style=\"max-width: none; height: 272.0px; color: #000000; background: #ffffff; font-family: Arial; direction: ltr\">\n",
              "<text class=\"displacy-token\" fill=\"currentColor\" text-anchor=\"middle\" y=\"182.0\">\n",
              "    <tspan class=\"displacy-word\" fill=\"currentColor\" x=\"50\">¡</tspan>\n",
              "    <tspan class=\"displacy-tag\" dy=\"2em\" fill=\"currentColor\" x=\"50\">PUNCT</tspan>\n",
              "</text>\n",
              "\n",
              "<text class=\"displacy-token\" fill=\"currentColor\" text-anchor=\"middle\" y=\"182.0\">\n",
              "    <tspan class=\"displacy-word\" fill=\"currentColor\" x=\"140\">Hey!,</tspan>\n",
              "    <tspan class=\"displacy-tag\" dy=\"2em\" fill=\"currentColor\" x=\"140\">INTJ</tspan>\n",
              "</text>\n",
              "\n",
              "<text class=\"displacy-token\" fill=\"currentColor\" text-anchor=\"middle\" y=\"182.0\">\n",
              "    <tspan class=\"displacy-word\" fill=\"currentColor\" x=\"230\">esta</tspan>\n",
              "    <tspan class=\"displacy-tag\" dy=\"2em\" fill=\"currentColor\" x=\"230\">DET</tspan>\n",
              "</text>\n",
              "\n",
              "<text class=\"displacy-token\" fill=\"currentColor\" text-anchor=\"middle\" y=\"182.0\">\n",
              "    <tspan class=\"displacy-word\" fill=\"currentColor\" x=\"320\">oración</tspan>\n",
              "    <tspan class=\"displacy-tag\" dy=\"2em\" fill=\"currentColor\" x=\"320\">NOUN</tspan>\n",
              "</text>\n",
              "\n",
              "<text class=\"displacy-token\" fill=\"currentColor\" text-anchor=\"middle\" y=\"182.0\">\n",
              "    <tspan class=\"displacy-word\" fill=\"currentColor\" x=\"410\">tiene</tspan>\n",
              "    <tspan class=\"displacy-tag\" dy=\"2em\" fill=\"currentColor\" x=\"410\">VERB</tspan>\n",
              "</text>\n",
              "\n",
              "<text class=\"displacy-token\" fill=\"currentColor\" text-anchor=\"middle\" y=\"182.0\">\n",
              "    <tspan class=\"displacy-word\" fill=\"currentColor\" x=\"500\">muchos</tspan>\n",
              "    <tspan class=\"displacy-tag\" dy=\"2em\" fill=\"currentColor\" x=\"500\">DET</tspan>\n",
              "</text>\n",
              "\n",
              "<text class=\"displacy-token\" fill=\"currentColor\" text-anchor=\"middle\" y=\"182.0\">\n",
              "    <tspan class=\"displacy-word\" fill=\"currentColor\" x=\"590\">verbos</tspan>\n",
              "    <tspan class=\"displacy-tag\" dy=\"2em\" fill=\"currentColor\" x=\"590\">NOUN</tspan>\n",
              "</text>\n",
              "\n",
              "<text class=\"displacy-token\" fill=\"currentColor\" text-anchor=\"middle\" y=\"182.0\">\n",
              "    <tspan class=\"displacy-word\" fill=\"currentColor\" x=\"680\">bonitos</tspan>\n",
              "    <tspan class=\"displacy-tag\" dy=\"2em\" fill=\"currentColor\" x=\"680\">ADJ</tspan>\n",
              "</text>\n",
              "\n",
              "<text class=\"displacy-token\" fill=\"currentColor\" text-anchor=\"middle\" y=\"182.0\">\n",
              "    <tspan class=\"displacy-word\" fill=\"currentColor\" x=\"770\">por</tspan>\n",
              "    <tspan class=\"displacy-tag\" dy=\"2em\" fill=\"currentColor\" x=\"770\">ADP</tspan>\n",
              "</text>\n",
              "\n",
              "<text class=\"displacy-token\" fill=\"currentColor\" text-anchor=\"middle\" y=\"182.0\">\n",
              "    <tspan class=\"displacy-word\" fill=\"currentColor\" x=\"860\">espacio, ¿</tspan>\n",
              "    <tspan class=\"displacy-tag\" dy=\"2em\" fill=\"currentColor\" x=\"860\">NOUN</tspan>\n",
              "</text>\n",
              "\n",
              "<text class=\"displacy-token\" fill=\"currentColor\" text-anchor=\"middle\" y=\"182.0\">\n",
              "    <tspan class=\"displacy-word\" fill=\"currentColor\" x=\"950\">pero</tspan>\n",
              "    <tspan class=\"displacy-tag\" dy=\"2em\" fill=\"currentColor\" x=\"950\">CCONJ</tspan>\n",
              "</text>\n",
              "\n",
              "<text class=\"displacy-token\" fill=\"currentColor\" text-anchor=\"middle\" y=\"182.0\">\n",
              "    <tspan class=\"displacy-word\" fill=\"currentColor\" x=\"1040\">tiene</tspan>\n",
              "    <tspan class=\"displacy-tag\" dy=\"2em\" fill=\"currentColor\" x=\"1040\">VERB</tspan>\n",
              "</text>\n",
              "\n",
              "<text class=\"displacy-token\" fill=\"currentColor\" text-anchor=\"middle\" y=\"182.0\">\n",
              "    <tspan class=\"displacy-word\" fill=\"currentColor\" x=\"1130\">preposiciones?</tspan>\n",
              "    <tspan class=\"displacy-tag\" dy=\"2em\" fill=\"currentColor\" x=\"1130\">NOUN</tspan>\n",
              "</text>\n",
              "\n",
              "<g class=\"displacy-arrow\">\n",
              "    <path class=\"displacy-arc\" id=\"arrow-f7a29c2fbc8846cea8c2f90da9eca580-0-0\" stroke-width=\"2px\" d=\"M70,137.0 C70,92.0 130.0,92.0 130.0,137.0\" fill=\"none\" stroke=\"currentColor\"/>\n",
              "    <text dy=\"1.25em\" style=\"font-size: 0.8em; letter-spacing: 1px\">\n",
              "        <textPath xlink:href=\"#arrow-f7a29c2fbc8846cea8c2f90da9eca580-0-0\" class=\"displacy-label\" startOffset=\"50%\" side=\"left\" fill=\"currentColor\" text-anchor=\"middle\">punct</textPath>\n",
              "    </text>\n",
              "    <path class=\"displacy-arrowhead\" d=\"M70,139.0 L62,127.0 78,127.0\" fill=\"currentColor\"/>\n",
              "</g>\n",
              "\n",
              "<g class=\"displacy-arrow\">\n",
              "    <path class=\"displacy-arc\" id=\"arrow-f7a29c2fbc8846cea8c2f90da9eca580-0-1\" stroke-width=\"2px\" d=\"M250,137.0 C250,92.0 310.0,92.0 310.0,137.0\" fill=\"none\" stroke=\"currentColor\"/>\n",
              "    <text dy=\"1.25em\" style=\"font-size: 0.8em; letter-spacing: 1px\">\n",
              "        <textPath xlink:href=\"#arrow-f7a29c2fbc8846cea8c2f90da9eca580-0-1\" class=\"displacy-label\" startOffset=\"50%\" side=\"left\" fill=\"currentColor\" text-anchor=\"middle\">det</textPath>\n",
              "    </text>\n",
              "    <path class=\"displacy-arrowhead\" d=\"M250,139.0 L242,127.0 258,127.0\" fill=\"currentColor\"/>\n",
              "</g>\n",
              "\n",
              "<g class=\"displacy-arrow\">\n",
              "    <path class=\"displacy-arc\" id=\"arrow-f7a29c2fbc8846cea8c2f90da9eca580-0-2\" stroke-width=\"2px\" d=\"M340,137.0 C340,92.0 400.0,92.0 400.0,137.0\" fill=\"none\" stroke=\"currentColor\"/>\n",
              "    <text dy=\"1.25em\" style=\"font-size: 0.8em; letter-spacing: 1px\">\n",
              "        <textPath xlink:href=\"#arrow-f7a29c2fbc8846cea8c2f90da9eca580-0-2\" class=\"displacy-label\" startOffset=\"50%\" side=\"left\" fill=\"currentColor\" text-anchor=\"middle\">nsubj</textPath>\n",
              "    </text>\n",
              "    <path class=\"displacy-arrowhead\" d=\"M340,139.0 L332,127.0 348,127.0\" fill=\"currentColor\"/>\n",
              "</g>\n",
              "\n",
              "<g class=\"displacy-arrow\">\n",
              "    <path class=\"displacy-arc\" id=\"arrow-f7a29c2fbc8846cea8c2f90da9eca580-0-3\" stroke-width=\"2px\" d=\"M160,137.0 C160,47.0 405.0,47.0 405.0,137.0\" fill=\"none\" stroke=\"currentColor\"/>\n",
              "    <text dy=\"1.25em\" style=\"font-size: 0.8em; letter-spacing: 1px\">\n",
              "        <textPath xlink:href=\"#arrow-f7a29c2fbc8846cea8c2f90da9eca580-0-3\" class=\"displacy-label\" startOffset=\"50%\" side=\"left\" fill=\"currentColor\" text-anchor=\"middle\">advcl</textPath>\n",
              "    </text>\n",
              "    <path class=\"displacy-arrowhead\" d=\"M405.0,139.0 L413.0,127.0 397.0,127.0\" fill=\"currentColor\"/>\n",
              "</g>\n",
              "\n",
              "<g class=\"displacy-arrow\">\n",
              "    <path class=\"displacy-arc\" id=\"arrow-f7a29c2fbc8846cea8c2f90da9eca580-0-4\" stroke-width=\"2px\" d=\"M520,137.0 C520,92.0 580.0,92.0 580.0,137.0\" fill=\"none\" stroke=\"currentColor\"/>\n",
              "    <text dy=\"1.25em\" style=\"font-size: 0.8em; letter-spacing: 1px\">\n",
              "        <textPath xlink:href=\"#arrow-f7a29c2fbc8846cea8c2f90da9eca580-0-4\" class=\"displacy-label\" startOffset=\"50%\" side=\"left\" fill=\"currentColor\" text-anchor=\"middle\">det</textPath>\n",
              "    </text>\n",
              "    <path class=\"displacy-arrowhead\" d=\"M520,139.0 L512,127.0 528,127.0\" fill=\"currentColor\"/>\n",
              "</g>\n",
              "\n",
              "<g class=\"displacy-arrow\">\n",
              "    <path class=\"displacy-arc\" id=\"arrow-f7a29c2fbc8846cea8c2f90da9eca580-0-5\" stroke-width=\"2px\" d=\"M430,137.0 C430,47.0 585.0,47.0 585.0,137.0\" fill=\"none\" stroke=\"currentColor\"/>\n",
              "    <text dy=\"1.25em\" style=\"font-size: 0.8em; letter-spacing: 1px\">\n",
              "        <textPath xlink:href=\"#arrow-f7a29c2fbc8846cea8c2f90da9eca580-0-5\" class=\"displacy-label\" startOffset=\"50%\" side=\"left\" fill=\"currentColor\" text-anchor=\"middle\">obj</textPath>\n",
              "    </text>\n",
              "    <path class=\"displacy-arrowhead\" d=\"M585.0,139.0 L593.0,127.0 577.0,127.0\" fill=\"currentColor\"/>\n",
              "</g>\n",
              "\n",
              "<g class=\"displacy-arrow\">\n",
              "    <path class=\"displacy-arc\" id=\"arrow-f7a29c2fbc8846cea8c2f90da9eca580-0-6\" stroke-width=\"2px\" d=\"M610,137.0 C610,92.0 670.0,92.0 670.0,137.0\" fill=\"none\" stroke=\"currentColor\"/>\n",
              "    <text dy=\"1.25em\" style=\"font-size: 0.8em; letter-spacing: 1px\">\n",
              "        <textPath xlink:href=\"#arrow-f7a29c2fbc8846cea8c2f90da9eca580-0-6\" class=\"displacy-label\" startOffset=\"50%\" side=\"left\" fill=\"currentColor\" text-anchor=\"middle\">amod</textPath>\n",
              "    </text>\n",
              "    <path class=\"displacy-arrowhead\" d=\"M670.0,139.0 L678.0,127.0 662.0,127.0\" fill=\"currentColor\"/>\n",
              "</g>\n",
              "\n",
              "<g class=\"displacy-arrow\">\n",
              "    <path class=\"displacy-arc\" id=\"arrow-f7a29c2fbc8846cea8c2f90da9eca580-0-7\" stroke-width=\"2px\" d=\"M790,137.0 C790,92.0 850.0,92.0 850.0,137.0\" fill=\"none\" stroke=\"currentColor\"/>\n",
              "    <text dy=\"1.25em\" style=\"font-size: 0.8em; letter-spacing: 1px\">\n",
              "        <textPath xlink:href=\"#arrow-f7a29c2fbc8846cea8c2f90da9eca580-0-7\" class=\"displacy-label\" startOffset=\"50%\" side=\"left\" fill=\"currentColor\" text-anchor=\"middle\">case</textPath>\n",
              "    </text>\n",
              "    <path class=\"displacy-arrowhead\" d=\"M790,139.0 L782,127.0 798,127.0\" fill=\"currentColor\"/>\n",
              "</g>\n",
              "\n",
              "<g class=\"displacy-arrow\">\n",
              "    <path class=\"displacy-arc\" id=\"arrow-f7a29c2fbc8846cea8c2f90da9eca580-0-8\" stroke-width=\"2px\" d=\"M610,137.0 C610,47.0 855.0,47.0 855.0,137.0\" fill=\"none\" stroke=\"currentColor\"/>\n",
              "    <text dy=\"1.25em\" style=\"font-size: 0.8em; letter-spacing: 1px\">\n",
              "        <textPath xlink:href=\"#arrow-f7a29c2fbc8846cea8c2f90da9eca580-0-8\" class=\"displacy-label\" startOffset=\"50%\" side=\"left\" fill=\"currentColor\" text-anchor=\"middle\">nmod</textPath>\n",
              "    </text>\n",
              "    <path class=\"displacy-arrowhead\" d=\"M855.0,139.0 L863.0,127.0 847.0,127.0\" fill=\"currentColor\"/>\n",
              "</g>\n",
              "\n",
              "<g class=\"displacy-arrow\">\n",
              "    <path class=\"displacy-arc\" id=\"arrow-f7a29c2fbc8846cea8c2f90da9eca580-0-9\" stroke-width=\"2px\" d=\"M970,137.0 C970,92.0 1030.0,92.0 1030.0,137.0\" fill=\"none\" stroke=\"currentColor\"/>\n",
              "    <text dy=\"1.25em\" style=\"font-size: 0.8em; letter-spacing: 1px\">\n",
              "        <textPath xlink:href=\"#arrow-f7a29c2fbc8846cea8c2f90da9eca580-0-9\" class=\"displacy-label\" startOffset=\"50%\" side=\"left\" fill=\"currentColor\" text-anchor=\"middle\">cc</textPath>\n",
              "    </text>\n",
              "    <path class=\"displacy-arrowhead\" d=\"M970,139.0 L962,127.0 978,127.0\" fill=\"currentColor\"/>\n",
              "</g>\n",
              "\n",
              "<g class=\"displacy-arrow\">\n",
              "    <path class=\"displacy-arc\" id=\"arrow-f7a29c2fbc8846cea8c2f90da9eca580-0-10\" stroke-width=\"2px\" d=\"M430,137.0 C430,2.0 1040.0,2.0 1040.0,137.0\" fill=\"none\" stroke=\"currentColor\"/>\n",
              "    <text dy=\"1.25em\" style=\"font-size: 0.8em; letter-spacing: 1px\">\n",
              "        <textPath xlink:href=\"#arrow-f7a29c2fbc8846cea8c2f90da9eca580-0-10\" class=\"displacy-label\" startOffset=\"50%\" side=\"left\" fill=\"currentColor\" text-anchor=\"middle\">conj</textPath>\n",
              "    </text>\n",
              "    <path class=\"displacy-arrowhead\" d=\"M1040.0,139.0 L1048.0,127.0 1032.0,127.0\" fill=\"currentColor\"/>\n",
              "</g>\n",
              "\n",
              "<g class=\"displacy-arrow\">\n",
              "    <path class=\"displacy-arc\" id=\"arrow-f7a29c2fbc8846cea8c2f90da9eca580-0-11\" stroke-width=\"2px\" d=\"M1060,137.0 C1060,92.0 1120.0,92.0 1120.0,137.0\" fill=\"none\" stroke=\"currentColor\"/>\n",
              "    <text dy=\"1.25em\" style=\"font-size: 0.8em; letter-spacing: 1px\">\n",
              "        <textPath xlink:href=\"#arrow-f7a29c2fbc8846cea8c2f90da9eca580-0-11\" class=\"displacy-label\" startOffset=\"50%\" side=\"left\" fill=\"currentColor\" text-anchor=\"middle\">obj</textPath>\n",
              "    </text>\n",
              "    <path class=\"displacy-arrowhead\" d=\"M1120.0,139.0 L1128.0,127.0 1112.0,127.0\" fill=\"currentColor\"/>\n",
              "</g>\n",
              "</svg></span>"
            ]
          },
          "metadata": {}
        }
      ]
    },
    {
      "cell_type": "markdown",
      "source": [
        "En la oración anterior, podemos encontrar los siguientes POS:\n",
        "\n",
        "\n",
        "1.   **Puntuación** (PUNCT): signos de puntuación en general\n",
        "2.   **Interjección** (INTJ): expresiones que conllevan sentimientos vivos, llamados o acciones sonoras.\n",
        "3.   **Determinante** (DET): conjunto cerrado de palabras que especifican un sustantivo (NOUN) (e.g. *este, la, un*).\n",
        "4.   **Verbos** (VERB): conjunto abierto de palabras que denotan una acción, estado o proceso realizado o afectado por un sustantivo (NOUN).\n",
        "5.   **Adjetivo** (ADJ): conjunto abierto de palabras que modifica a los sustantivos (NOUN), entregando características o atributos a este.\n",
        "6.   **Adverbio** (ADV): conjunto abierto de palabras que modifica a los adjetivos y verbos a través de circunstancias (e.g. tiempo, manera, espacio, etc).\n",
        "7. **Conjunción** (CCONJ): conjunto cerrado de palabras que permiten relacionar un conjunto de elementos entre sí (e.g. *y*, *pero*, *o*, etc.)\n",
        "8. **Preposición** (ADP): también conocida como Adposición, es un conjunto cerrado de palabras que permite introducir nueva información complementaria, conocida como \"adjuntos\" (e.g. \"Salí de vacaciones **por este mes**).\n",
        "\n"
      ],
      "metadata": {
        "id": "ZtYaT5ysdyrX"
      }
    },
    {
      "cell_type": "markdown",
      "source": [
        "Gracias a estos POS, podemos contruir patrones que nos permitan identificar y almacenar diferentes entidades personalizadas, como veremos ahora."
      ],
      "metadata": {
        "id": "p8nQHyNsgbbv"
      }
    },
    {
      "cell_type": "markdown",
      "source": [
        "### Crear un patrón personalizado\n",
        "**Creemos ahora una patròn que reconozca las guerras y batallas en las que estuvo asociado José Miguel Carrera.**"
      ],
      "metadata": {
        "id": "xzJ_HobcR5I3"
      }
    },
    {
      "cell_type": "markdown",
      "source": [
        "Por ejemplo, es común que las batallas se nombren a partir de las localidades donde ocurren, como la *Batalla de Chacabuco*. Podemos encontrar esta batalla con el siguiente patrón:\n",
        "\n",
        "```\n",
        "pattern_batalla = [{'LOWER': 'batalla'}, # reconocemos 'Batalla' en su forma minúscula\n",
        "           {'POS': 'ADP'}, # Matcheamos una preposición con el POS 'ADP'\n",
        "           {\"POS\": \"DET\", \"OP\": \"?\"}, # Matchemos un POS DET si está presente (le decimos que es opcional con \"OP\":\"?\")\n",
        "           {'POS': 'PROPN'}] # Matcheamos un nombre propio PROPN con su POS\n",
        "```\n",
        "\n",
        "Con este patrón, podemos reconocer batallas como _batalla de Chacabuco_ (`batalla ADP ? PROPN`) o _batalla de Los Papeles_ (`batalla ADP DET PROPN`)."
      ],
      "metadata": {
        "id": "7Myes4NZQkGi"
      }
    },
    {
      "cell_type": "code",
      "source": [
        "from spacy.matcher import Matcher\n",
        "from spacy.util import filter_spans\n",
        "\n",
        "jmc_wiki = wikipedia.page(\"José Miguel Carrera\")\n",
        "doc = nlp(jmc_wiki.content)\n",
        "matcher = Matcher(nlp.vocab)\n",
        "\n",
        "# Escribamos un patrón que identifique las guerras y batallas presentes en el texto\n",
        "# Por ejemplo, \"Guerra del pacífico\", \"Batalla de Placilla\"\n",
        "pattern_batalla = [{'LOWER': 'batalla'},\n",
        "           {'POS': 'ADP'},\n",
        "           {\"POS\": \"DET\", \"OP\": \"?\"},\n",
        "           {'POS': 'PROPN'}]\n",
        "\n",
        "pattern_guerra = [{'LOWER': 'guerra'},\n",
        "           {'POS': 'ADP'},\n",
        "           {\"POS\": \"DET\", \"OP\": \"?\"},\n",
        "           {'POS': 'PROPN'}]\n",
        "\n",
        "# Añade el patrón al matcher y usa el matcher sobre el documento\n",
        "matcher.add(\"BATALLA\", [pattern_batalla])\n",
        "matcher.add(\"GUERRA\", [pattern_guerra])"
      ],
      "metadata": {
        "id": "KrUkX1nDBKAC"
      },
      "execution_count": null,
      "outputs": []
    },
    {
      "cell_type": "code",
      "source": [
        "matches = matcher(doc)\n",
        "\n",
        "for match_id, start, end in matches:\n",
        "  string_id = nlp.vocab.strings[match_id] \n",
        "  span = Span(doc, start, end, label=match_id)\n",
        "  doc.set_ents(entities=[span], default=\"unmodified\")\n",
        "  print(\"Resultado encontrado:\", doc[start:end].text, nlp.vocab.strings[match_id])"
      ],
      "metadata": {
        "id": "Ue-ihbBhjBeH",
        "colab": {
          "base_uri": "https://localhost:8080/"
        },
        "outputId": "7c226d07-e8bf-4d4e-c764-63aa9abd69ec"
      },
      "execution_count": null,
      "outputs": [
        {
          "output_type": "stream",
          "name": "stdout",
          "text": [
            "Resultado encontrado: Guerra por la Independencia GUERRA\n",
            "Resultado encontrado: batalla de Rancagua BATALLA\n",
            "Resultado encontrado: Guerra de la Independencia GUERRA\n",
            "Resultado encontrado: batalla de Talavera BATALLA\n",
            "Resultado encontrado: batalla de Ocaña BATALLA\n",
            "Resultado encontrado: Batalla de los Papeles BATALLA\n",
            "Resultado encontrado: batalla de Chacabuco BATALLA\n",
            "Resultado encontrado: Batalla de Maipú BATALLA\n",
            "Resultado encontrado: batalla de la Cañada BATALLA\n",
            "Resultado encontrado: Guerra del Pacífico GUERRA\n"
          ]
        }
      ]
    },
    {
      "cell_type": "markdown",
      "source": [
        "Si bien en este caso creamos un patrón que distingue entre `GUERRA` y `BATALLA`, también podríamos crear un patrón con atributos (como `IN` o `NOT_IN`) para que las guerras y batallas pertenezcan al mismo tipo de entidad. \n",
        "\n",
        "Si vemos los patrones, veremos que ambos tienen en común la estructura `NOUN ADP DET PROPN`, distinguiéndose exclusivamente en la instancia de `NOUN` (_guerra_ vs _batalla_). Podemos, entonces, generalizar la categoría con `CONFLICTO` usando el operador `IN`, como en\n",
        "\n",
        "\n",
        "```\n",
        "{'LOWER': {'IN': ['batalla','guerra'] }}\n",
        "```\n",
        "\n",
        "Esto hará que el patrón busque ambas palabras para iniciar el match y las clasifique como estimemos conveniente."
      ],
      "metadata": {
        "id": "qyw2gIDwhM5p"
      }
    },
    {
      "cell_type": "code",
      "source": [
        "# Eliminemos los matches GUERRA y BATALLA antes\n",
        "matcher.remove(\"BATALLA\")\n",
        "matcher.remove(\"GUERRA\")\n",
        "\n",
        "pattern_conflicto = [{'LOWER': {'IN':['batalla','guerra']}},\n",
        "           {'POS': 'ADP'},\n",
        "           {\"POS\": \"DET\", \"OP\": \"?\"},\n",
        "           {'POS': 'PROPN'}]\n",
        "\n",
        "# Añade el patrón al matcher y usa el matcher sobre el documento\n",
        "matcher.add(\"CONFLICTO\", [pattern_conflicto])"
      ],
      "metadata": {
        "id": "E1kvTDChhgm7"
      },
      "execution_count": null,
      "outputs": []
    },
    {
      "cell_type": "markdown",
      "source": [
        "Podemos añadir estos resultados al DataFrame `carrera_verdugo_df` que creamos previamente, y así poder contabilizar las entidades presentes:"
      ],
      "metadata": {
        "id": "m8dctKCT2Coq"
      }
    },
    {
      "cell_type": "code",
      "source": [
        "matcher = Matcher(nlp.vocab)\n",
        "pattern_conflicto = [{'LOWER': {'IN':['batalla','guerra']}},\n",
        "           {'POS': 'ADP'},\n",
        "           {\"POS\": \"DET\", \"OP\": \"?\"},\n",
        "           {'POS': 'PROPN'}]\n",
        "\n",
        "# Añade el patrón al matcher y usa el matcher sobre el documento\n",
        "matcher.add(\"CONFLICTO\", [pattern_conflicto])\n",
        "matches = matcher(doc)\n",
        "\n",
        "# Busca el patrón dado y lo añade al conjunto de entidades\n",
        "for match_id, start, end in matches:\n",
        "  string_id = nlp.vocab.strings[match_id] \n",
        "  span = Span(doc, start, end, label=match_id)\n",
        "  doc.set_ents(entities=[span], default=\"unmodified\") # con .set_ents configuramos las nuevas entidades para `doc`.\n",
        "\n",
        "\n",
        "# Creamos un array donde iremos añadiendo las entidades \"clásicas\" (PER, LOC, etc.) más las personalizadas (CONFLICTO)\n",
        "jmc_array = []\n",
        "for ent in doc.ents:\n",
        "    jmc_array.append(\n",
        "        {\n",
        "            \"texto\": ent.text,\n",
        "            \"entidad\": ent.label_\n",
        "        }\n",
        "    )\n",
        "\n",
        "# veamos como queda la tabla\n",
        "carrera_verdugo_df = pd.DataFrame(jmc_array)"
      ],
      "metadata": {
        "id": "FTHQ7JqQbz86"
      },
      "execution_count": null,
      "outputs": []
    },
    {
      "cell_type": "markdown",
      "source": [
        "**¿Cuántas entidades `CONFLICTO` podemos encontrar una vez que realizamos esta clasificación?**"
      ],
      "metadata": {
        "id": "tiiKfekilDEt"
      }
    },
    {
      "cell_type": "code",
      "source": [
        "carrera_verdugo_df.value_counts(\"entidad\")"
      ],
      "metadata": {
        "id": "VNt91swJCp68",
        "colab": {
          "base_uri": "https://localhost:8080/"
        },
        "outputId": "df2878f2-d55a-4188-8f2c-e12757edf5e4"
      },
      "execution_count": null,
      "outputs": [
        {
          "output_type": "execute_result",
          "data": {
            "text/plain": [
              "entidad\n",
              "PER          405\n",
              "LOC          258\n",
              "MISC         133\n",
              "ORG           65\n",
              "CONFLICTO     10\n",
              "dtype: int64"
            ]
          },
          "metadata": {},
          "execution_count": 25
        }
      ]
    },
    {
      "cell_type": "markdown",
      "source": [
        "**¿Cuáles son las instancias de entidades más comunes en la Wikipedia sobre José Miguel Carrera**"
      ],
      "metadata": {
        "id": "_aCbAuk46Zy8"
      }
    },
    {
      "cell_type": "code",
      "source": [
        "carrera_verdugo_df.value_counts(\"texto\").head(15)"
      ],
      "metadata": {
        "id": "oeDDw2b46FrP",
        "colab": {
          "base_uri": "https://localhost:8080/"
        },
        "outputId": "8d5e8ffa-e7fd-4345-a560-9bdd14aa10fe"
      },
      "execution_count": null,
      "outputs": [
        {
          "output_type": "execute_result",
          "data": {
            "text/plain": [
              "texto\n",
              "Carrera                84\n",
              "Chile                  38\n",
              "José Miguel            19\n",
              "San Martín             18\n",
              "Alvear                 15\n",
              "Mendoza                13\n",
              "José Miguel Carrera    13\n",
              "Argentina              12\n",
              "O'Higgins              10\n",
              "Santiago               10\n",
              "Luis                    9\n",
              "Juan José               9\n",
              "Montevideo              9\n",
              "Buenos Aires            9\n",
              "Estados Unidos          8\n",
              "dtype: int64"
            ]
          },
          "metadata": {},
          "execution_count": 26
        }
      ]
    },
    {
      "cell_type": "markdown",
      "source": [
        "**¿Y si quisieramos saber cuáles conceptos son modificados por adjetivos?**"
      ],
      "metadata": {
        "id": "YXMtnRMl6vXV"
      }
    },
    {
      "cell_type": "code",
      "source": [
        "matcher = Matcher(nlp.vocab)\n",
        "pattern_evaluacion = [{'POS': 'NOUN'},\n",
        "           {'POS': 'ADJ'}]\n",
        "\n",
        "# Añade el patrón al matcher y usa el matcher sobre el documento\n",
        "matcher.add(\"EVAL\", [pattern_evaluacion])\n",
        "matches = matcher(doc)\n",
        "\n",
        "# Busca el patrón dado y lo añade al conjunto de entidades\n",
        "for match_id, start, end in matches:\n",
        "  string_id = nlp.vocab.strings[match_id] \n",
        "  span = Span(doc, start, end, label=match_id)\n",
        "  doc.set_ents(entities=[span], default=\"unmodified\") # con .set_ents configuramos las nuevas entidades para `doc`.\n",
        "\n",
        "\n",
        "# Creamos un array donde iremos añadiendo las entidades \"clásicas\" (PER, LOC, etc.) más las personalizadas (CONFLICTO)\n",
        "jmc_array = []\n",
        "for ent in doc.ents:\n",
        "  if ent.label_ == \"EVAL\":\n",
        "      jmc_array.append(\n",
        "          {\n",
        "              \"texto\": ent.text,\n",
        "              \"sustantivo\": str(ent[0:1]),\n",
        "              \"adjetivo\": str(ent[1:2]), # Al subsetear `ent[1:2]` almacenamos solo el segundo token, el ADJ\n",
        "              \"entidad\": ent.label_\n",
        "          }\n",
        "      )\n",
        "\n",
        "# veamos como queda la tabla\n",
        "jmc_separado = pd.DataFrame(jmc_array)\n",
        "print(pd.DataFrame(jmc_array).value_counts(\"adjetivo\").head(10))\n",
        "print(\" \")\n",
        "print(pd.DataFrame(jmc_array).value_counts(\"texto\").head(10))"
      ],
      "metadata": {
        "id": "7QM9cq3z65l2",
        "colab": {
          "base_uri": "https://localhost:8080/"
        },
        "outputId": "9fbbe501-2d54-4e01-98ca-284637ede1ed"
      },
      "execution_count": null,
      "outputs": [
        {
          "output_type": "stream",
          "name": "stdout",
          "text": [
            "adjetivo\n",
            "política           8\n",
            "militar            7\n",
            "nacional           7\n",
            "inglés             4\n",
            "chilena            4\n",
            "independentista    3\n",
            "militares          3\n",
            "patriota           3\n",
            "personal           3\n",
            "político           3\n",
            "dtype: int64\n",
            " \n",
            "texto\n",
            "vida política              3\n",
            "sectores populares         2\n",
            "bandera nacional           2\n",
            "documentos oficiales       2\n",
            "proceso emancipador        2\n",
            "diario militar             2\n",
            "parte ignorantes           2\n",
            "fuerzas patriotas          2\n",
            "gobierno representativo    2\n",
            "cabildo abierto            2\n",
            "dtype: int64\n"
          ]
        }
      ]
    },
    {
      "cell_type": "code",
      "source": [
        "jmc_separado[[\"sustantivo\", \"adjetivo\"]]"
      ],
      "metadata": {
        "id": "lu5z9w_sSuRa",
        "colab": {
          "base_uri": "https://localhost:8080/",
          "height": 423
        },
        "outputId": "cedbdec8-5be8-40e4-9786-f14fd1ab209f"
      },
      "execution_count": null,
      "outputs": [
        {
          "output_type": "execute_result",
          "data": {
            "text/plain": [
              "    sustantivo       adjetivo\n",
              "0      militar        chileno\n",
              "1     historia    republicana\n",
              "2      familia  aristocrática\n",
              "3      aparato        estatal\n",
              "4      proceso    emancipador\n",
              "..         ...            ...\n",
              "243     nación    republicana\n",
              "244      obras  audiovisuales\n",
              "245  Contenido    relacionado\n",
              "246      obras     originales\n",
              "247     frases       célebres\n",
              "\n",
              "[248 rows x 2 columns]"
            ],
            "text/html": [
              "\n",
              "  <div id=\"df-65b6b976-d1ab-4eb2-b218-8c17f1fb5a7e\">\n",
              "    <div class=\"colab-df-container\">\n",
              "      <div>\n",
              "<style scoped>\n",
              "    .dataframe tbody tr th:only-of-type {\n",
              "        vertical-align: middle;\n",
              "    }\n",
              "\n",
              "    .dataframe tbody tr th {\n",
              "        vertical-align: top;\n",
              "    }\n",
              "\n",
              "    .dataframe thead th {\n",
              "        text-align: right;\n",
              "    }\n",
              "</style>\n",
              "<table border=\"1\" class=\"dataframe\">\n",
              "  <thead>\n",
              "    <tr style=\"text-align: right;\">\n",
              "      <th></th>\n",
              "      <th>sustantivo</th>\n",
              "      <th>adjetivo</th>\n",
              "    </tr>\n",
              "  </thead>\n",
              "  <tbody>\n",
              "    <tr>\n",
              "      <th>0</th>\n",
              "      <td>militar</td>\n",
              "      <td>chileno</td>\n",
              "    </tr>\n",
              "    <tr>\n",
              "      <th>1</th>\n",
              "      <td>historia</td>\n",
              "      <td>republicana</td>\n",
              "    </tr>\n",
              "    <tr>\n",
              "      <th>2</th>\n",
              "      <td>familia</td>\n",
              "      <td>aristocrática</td>\n",
              "    </tr>\n",
              "    <tr>\n",
              "      <th>3</th>\n",
              "      <td>aparato</td>\n",
              "      <td>estatal</td>\n",
              "    </tr>\n",
              "    <tr>\n",
              "      <th>4</th>\n",
              "      <td>proceso</td>\n",
              "      <td>emancipador</td>\n",
              "    </tr>\n",
              "    <tr>\n",
              "      <th>...</th>\n",
              "      <td>...</td>\n",
              "      <td>...</td>\n",
              "    </tr>\n",
              "    <tr>\n",
              "      <th>243</th>\n",
              "      <td>nación</td>\n",
              "      <td>republicana</td>\n",
              "    </tr>\n",
              "    <tr>\n",
              "      <th>244</th>\n",
              "      <td>obras</td>\n",
              "      <td>audiovisuales</td>\n",
              "    </tr>\n",
              "    <tr>\n",
              "      <th>245</th>\n",
              "      <td>Contenido</td>\n",
              "      <td>relacionado</td>\n",
              "    </tr>\n",
              "    <tr>\n",
              "      <th>246</th>\n",
              "      <td>obras</td>\n",
              "      <td>originales</td>\n",
              "    </tr>\n",
              "    <tr>\n",
              "      <th>247</th>\n",
              "      <td>frases</td>\n",
              "      <td>célebres</td>\n",
              "    </tr>\n",
              "  </tbody>\n",
              "</table>\n",
              "<p>248 rows × 2 columns</p>\n",
              "</div>\n",
              "      <button class=\"colab-df-convert\" onclick=\"convertToInteractive('df-65b6b976-d1ab-4eb2-b218-8c17f1fb5a7e')\"\n",
              "              title=\"Convert this dataframe to an interactive table.\"\n",
              "              style=\"display:none;\">\n",
              "        \n",
              "  <svg xmlns=\"http://www.w3.org/2000/svg\" height=\"24px\"viewBox=\"0 0 24 24\"\n",
              "       width=\"24px\">\n",
              "    <path d=\"M0 0h24v24H0V0z\" fill=\"none\"/>\n",
              "    <path d=\"M18.56 5.44l.94 2.06.94-2.06 2.06-.94-2.06-.94-.94-2.06-.94 2.06-2.06.94zm-11 1L8.5 8.5l.94-2.06 2.06-.94-2.06-.94L8.5 2.5l-.94 2.06-2.06.94zm10 10l.94 2.06.94-2.06 2.06-.94-2.06-.94-.94-2.06-.94 2.06-2.06.94z\"/><path d=\"M17.41 7.96l-1.37-1.37c-.4-.4-.92-.59-1.43-.59-.52 0-1.04.2-1.43.59L10.3 9.45l-7.72 7.72c-.78.78-.78 2.05 0 2.83L4 21.41c.39.39.9.59 1.41.59.51 0 1.02-.2 1.41-.59l7.78-7.78 2.81-2.81c.8-.78.8-2.07 0-2.86zM5.41 20L4 18.59l7.72-7.72 1.47 1.35L5.41 20z\"/>\n",
              "  </svg>\n",
              "      </button>\n",
              "      \n",
              "  <style>\n",
              "    .colab-df-container {\n",
              "      display:flex;\n",
              "      flex-wrap:wrap;\n",
              "      gap: 12px;\n",
              "    }\n",
              "\n",
              "    .colab-df-convert {\n",
              "      background-color: #E8F0FE;\n",
              "      border: none;\n",
              "      border-radius: 50%;\n",
              "      cursor: pointer;\n",
              "      display: none;\n",
              "      fill: #1967D2;\n",
              "      height: 32px;\n",
              "      padding: 0 0 0 0;\n",
              "      width: 32px;\n",
              "    }\n",
              "\n",
              "    .colab-df-convert:hover {\n",
              "      background-color: #E2EBFA;\n",
              "      box-shadow: 0px 1px 2px rgba(60, 64, 67, 0.3), 0px 1px 3px 1px rgba(60, 64, 67, 0.15);\n",
              "      fill: #174EA6;\n",
              "    }\n",
              "\n",
              "    [theme=dark] .colab-df-convert {\n",
              "      background-color: #3B4455;\n",
              "      fill: #D2E3FC;\n",
              "    }\n",
              "\n",
              "    [theme=dark] .colab-df-convert:hover {\n",
              "      background-color: #434B5C;\n",
              "      box-shadow: 0px 1px 3px 1px rgba(0, 0, 0, 0.15);\n",
              "      filter: drop-shadow(0px 1px 2px rgba(0, 0, 0, 0.3));\n",
              "      fill: #FFFFFF;\n",
              "    }\n",
              "  </style>\n",
              "\n",
              "      <script>\n",
              "        const buttonEl =\n",
              "          document.querySelector('#df-65b6b976-d1ab-4eb2-b218-8c17f1fb5a7e button.colab-df-convert');\n",
              "        buttonEl.style.display =\n",
              "          google.colab.kernel.accessAllowed ? 'block' : 'none';\n",
              "\n",
              "        async function convertToInteractive(key) {\n",
              "          const element = document.querySelector('#df-65b6b976-d1ab-4eb2-b218-8c17f1fb5a7e');\n",
              "          const dataTable =\n",
              "            await google.colab.kernel.invokeFunction('convertToInteractive',\n",
              "                                                     [key], {});\n",
              "          if (!dataTable) return;\n",
              "\n",
              "          const docLinkHtml = 'Like what you see? Visit the ' +\n",
              "            '<a target=\"_blank\" href=https://colab.research.google.com/notebooks/data_table.ipynb>data table notebook</a>'\n",
              "            + ' to learn more about interactive tables.';\n",
              "          element.innerHTML = '';\n",
              "          dataTable['output_type'] = 'display_data';\n",
              "          await google.colab.output.renderOutput(dataTable, element);\n",
              "          const docLink = document.createElement('div');\n",
              "          docLink.innerHTML = docLinkHtml;\n",
              "          element.appendChild(docLink);\n",
              "        }\n",
              "      </script>\n",
              "    </div>\n",
              "  </div>\n",
              "  "
            ]
          },
          "metadata": {},
          "execution_count": 29
        }
      ]
    },
    {
      "cell_type": "markdown",
      "source": [
        "### Ejercicio 2: continúa explorando tu corpus de Wikipedia creando tres nuevos patrones\n",
        "\n",
        "Crearemos ahora dos patrones personalizados. Revisa tu corpus y busca patrones regulares. Guíate de las herramientas [displaCy](https://demos.explosion.ai/displacy) para visualizar patrones y el [Rule-based Matcher Explorer](https://demos.explosion.ai/matcher) para ayudarte en la construcción del patrón."
      ],
      "metadata": {
        "id": "OMHOEmhplOZ0"
      }
    },
    {
      "cell_type": "code",
      "source": [
        "from spacy.matcher import Matcher\n",
        "from spacy.util import filter_spans\n",
        "\n",
        "matcher = Matcher(nlp.vocab)\n",
        "pattern1 = [{\"FLAG\":\"TOKEN\"}]\n",
        "pattern2 = [{\"FLAG\":\"TOKEN\"}]\n",
        "\n",
        "\n",
        "# Añade el patrón al matcher y usa el matcher sobre el documento\n",
        "matcher.add(\"NOMBRE_ENTIDAD\", [pattern1])\n",
        "\n",
        "tu_wiki_page_array = []\n",
        "for match_id, start, end in matches:\n",
        "  string_id = nlp.vocab.strings[match_id] \n",
        "  span = Span(doc, start, end, label=match_id)\n",
        "  doc.set_ents(entities=[span], default=\"missing\")\n",
        "  \n",
        "  # Construye el DataFrame \n",
        "  for ent in doc.ents:\n",
        "    tu_wiki_page_array.append(\n",
        "        {\n",
        "            \"texto\": ent.text,\n",
        "            \"entidad\": ent.label_\n",
        "        }\n",
        "    )\n",
        "\n",
        "pd.DataFrame(tu_wiki_page_array)"
      ],
      "metadata": {
        "id": "zgh9oRhqllTj"
      },
      "execution_count": null,
      "outputs": []
    },
    {
      "cell_type": "markdown",
      "source": [
        "## Visualizar diferencias léxicas entre dos categorías"
      ],
      "metadata": {
        "id": "hEjw2IHVSBcj"
      }
    },
    {
      "cell_type": "markdown",
      "source": [
        "Hasta este punto, solo hemos revisado un único texto a la vez, es decir, la entrada de Wikipedia sobre José Miguel Carrera. Con esta entrada, pudimos extraer las personas involucradas, los lugares mencionados e incluso creamos entidades nuevas, como `GUERRA` o `CONFLICTO`. \n",
        "\n",
        "Lo interesante de estas pequeñas pero poderosas piezas es que ahora podemos combinarlas para hacer comparaciones. Por ejemplo, podemos revisar los tipos de entidades más frecuentes entre categorías, o comparar las frecuencias de palabras entre categorías, entre otras muchas tareas, todo a través de DataFrames.\n"
      ],
      "metadata": {
        "id": "WjXrFCp_g9zo"
      }
    },
    {
      "cell_type": "markdown",
      "source": [
        "Veamos un ejemplo rápido. La celda de código siguiente llama al `Matcher`, añade los patrones de `GUERRA` y `BATALLA` al `Matcher`, setea la búsqueda de tres padres de la patria (\"Bernardo O'Higgins\", \"José Miguel Carrera\", \"Manuel Rodríguez Erdoíza\") en Wikipedia y almacena los resultados encontrados en un DataFrame de `pandas`."
      ],
      "metadata": {
        "id": "7M6A_gjb3XkI"
      }
    },
    {
      "cell_type": "code",
      "source": [
        "matcher = Matcher(nlp.vocab)\n",
        "\n",
        "# Escribamos un patrón que identifique las guerras y batallas presentes en el texto\n",
        "# Por ejemplo, \"Guerra del pacífico\", \"Batalla de Placilla\"\n",
        "pattern_batalla = [{'LOWER': 'batalla'},\n",
        "           {'POS': 'ADP'},\n",
        "           {\"POS\": \"DET\", \"OP\": \"?\"},\n",
        "           {'POS': 'PROPN'}]\n",
        "\n",
        "pattern_guerra = [{'LOWER': 'guerra'},\n",
        "           {'POS': 'ADP'},\n",
        "           {\"POS\": \"DET\", \"OP\": \"?\"},\n",
        "           {'POS': 'PROPN'}]\n",
        "\n",
        "# Añade el patrón al matcher y usa el matcher sobre el documento\n",
        "matcher.add(\"BATALLA\", [pattern_batalla])\n",
        "matcher.add(\"GUERRA\", [pattern_guerra])\n",
        "\n",
        "\n",
        "# Establece las páginas de wikipedia a buscar\n",
        "padres_de_la_patria = [\"Bernardo O'Higgins\", \"José Miguel Carrera\", \"Manuel Rodríguez Erdoíza\"]\n",
        "\n",
        "# Crea una lista vacía para construir el DataFrame\n",
        "padres_array = []\n",
        "for persona in padres_de_la_patria:\n",
        "  print(persona)\n",
        "\n",
        "  # Realiza la llamada a wikipedia\n",
        "  wiki = wikipedia.page(persona)\n",
        "  doc = nlp(wiki.content)\n",
        "  matches = matcher(doc)\n",
        "\n",
        "  # Establece los matches personalizados de BATALLA y GUERRA y los añade a los documentos\n",
        "  for match_id, start, end in matches:\n",
        "    string_id = nlp.vocab.strings[match_id] \n",
        "    span = Span(doc, start, end, label=match_id)\n",
        "    doc.set_ents(entities=[span], default=\"unmodified\")\n",
        " \n",
        "  # Recorre las entidades de cada documento y almacena sus entidades en la lista\n",
        "  for ent in doc.ents:\n",
        "    padres_array.append(\n",
        "        {\n",
        "            \"persona\": persona,\n",
        "            \"texto\": ent.text,\n",
        "            \"entidad\": ent.label_\n",
        "        }\n",
        "    )\n",
        "\n",
        "# Crea el DataFrame, agrupa los datos por persona y entidad y devuelve un conteo agrupado\n",
        "df_padres = pd.DataFrame(padres_array)\n",
        "df_padres.groupby([\"persona\", \"entidad\"]).count()"
      ],
      "metadata": {
        "id": "-KR26O12v5We",
        "colab": {
          "base_uri": "https://localhost:8080/",
          "height": 698
        },
        "outputId": "011ed9dd-ce3b-4b72-a3ab-7d52dfdf98ba"
      },
      "execution_count": null,
      "outputs": [
        {
          "output_type": "stream",
          "name": "stdout",
          "text": [
            "Bernardo O'Higgins\n",
            "José Miguel Carrera\n",
            "Manuel Rodríguez Erdoíza\n"
          ]
        },
        {
          "output_type": "execute_result",
          "data": {
            "text/plain": [
              "                                  texto\n",
              "persona                  entidad       \n",
              "Bernardo O'Higgins       BATALLA      7\n",
              "                         GUERRA       5\n",
              "                         LOC        597\n",
              "                         MISC       260\n",
              "                         ORG        104\n",
              "                         PER        660\n",
              "José Miguel Carrera      BATALLA      7\n",
              "                         GUERRA       3\n",
              "                         LOC        258\n",
              "                         MISC       133\n",
              "                         ORG         65\n",
              "                         PER        405\n",
              "Manuel Rodríguez Erdoíza BATALLA      7\n",
              "                         GUERRA       2\n",
              "                         LOC        189\n",
              "                         MISC       152\n",
              "                         ORG         46\n",
              "                         PER        494"
            ],
            "text/html": [
              "\n",
              "  <div id=\"df-00e2f441-ca18-4e7a-8c10-2a743c738fd7\">\n",
              "    <div class=\"colab-df-container\">\n",
              "      <div>\n",
              "<style scoped>\n",
              "    .dataframe tbody tr th:only-of-type {\n",
              "        vertical-align: middle;\n",
              "    }\n",
              "\n",
              "    .dataframe tbody tr th {\n",
              "        vertical-align: top;\n",
              "    }\n",
              "\n",
              "    .dataframe thead th {\n",
              "        text-align: right;\n",
              "    }\n",
              "</style>\n",
              "<table border=\"1\" class=\"dataframe\">\n",
              "  <thead>\n",
              "    <tr style=\"text-align: right;\">\n",
              "      <th></th>\n",
              "      <th></th>\n",
              "      <th>texto</th>\n",
              "    </tr>\n",
              "    <tr>\n",
              "      <th>persona</th>\n",
              "      <th>entidad</th>\n",
              "      <th></th>\n",
              "    </tr>\n",
              "  </thead>\n",
              "  <tbody>\n",
              "    <tr>\n",
              "      <th rowspan=\"6\" valign=\"top\">Bernardo O'Higgins</th>\n",
              "      <th>BATALLA</th>\n",
              "      <td>7</td>\n",
              "    </tr>\n",
              "    <tr>\n",
              "      <th>GUERRA</th>\n",
              "      <td>5</td>\n",
              "    </tr>\n",
              "    <tr>\n",
              "      <th>LOC</th>\n",
              "      <td>597</td>\n",
              "    </tr>\n",
              "    <tr>\n",
              "      <th>MISC</th>\n",
              "      <td>260</td>\n",
              "    </tr>\n",
              "    <tr>\n",
              "      <th>ORG</th>\n",
              "      <td>104</td>\n",
              "    </tr>\n",
              "    <tr>\n",
              "      <th>PER</th>\n",
              "      <td>660</td>\n",
              "    </tr>\n",
              "    <tr>\n",
              "      <th rowspan=\"6\" valign=\"top\">José Miguel Carrera</th>\n",
              "      <th>BATALLA</th>\n",
              "      <td>7</td>\n",
              "    </tr>\n",
              "    <tr>\n",
              "      <th>GUERRA</th>\n",
              "      <td>3</td>\n",
              "    </tr>\n",
              "    <tr>\n",
              "      <th>LOC</th>\n",
              "      <td>258</td>\n",
              "    </tr>\n",
              "    <tr>\n",
              "      <th>MISC</th>\n",
              "      <td>133</td>\n",
              "    </tr>\n",
              "    <tr>\n",
              "      <th>ORG</th>\n",
              "      <td>65</td>\n",
              "    </tr>\n",
              "    <tr>\n",
              "      <th>PER</th>\n",
              "      <td>405</td>\n",
              "    </tr>\n",
              "    <tr>\n",
              "      <th rowspan=\"6\" valign=\"top\">Manuel Rodríguez Erdoíza</th>\n",
              "      <th>BATALLA</th>\n",
              "      <td>7</td>\n",
              "    </tr>\n",
              "    <tr>\n",
              "      <th>GUERRA</th>\n",
              "      <td>2</td>\n",
              "    </tr>\n",
              "    <tr>\n",
              "      <th>LOC</th>\n",
              "      <td>189</td>\n",
              "    </tr>\n",
              "    <tr>\n",
              "      <th>MISC</th>\n",
              "      <td>152</td>\n",
              "    </tr>\n",
              "    <tr>\n",
              "      <th>ORG</th>\n",
              "      <td>46</td>\n",
              "    </tr>\n",
              "    <tr>\n",
              "      <th>PER</th>\n",
              "      <td>494</td>\n",
              "    </tr>\n",
              "  </tbody>\n",
              "</table>\n",
              "</div>\n",
              "      <button class=\"colab-df-convert\" onclick=\"convertToInteractive('df-00e2f441-ca18-4e7a-8c10-2a743c738fd7')\"\n",
              "              title=\"Convert this dataframe to an interactive table.\"\n",
              "              style=\"display:none;\">\n",
              "        \n",
              "  <svg xmlns=\"http://www.w3.org/2000/svg\" height=\"24px\"viewBox=\"0 0 24 24\"\n",
              "       width=\"24px\">\n",
              "    <path d=\"M0 0h24v24H0V0z\" fill=\"none\"/>\n",
              "    <path d=\"M18.56 5.44l.94 2.06.94-2.06 2.06-.94-2.06-.94-.94-2.06-.94 2.06-2.06.94zm-11 1L8.5 8.5l.94-2.06 2.06-.94-2.06-.94L8.5 2.5l-.94 2.06-2.06.94zm10 10l.94 2.06.94-2.06 2.06-.94-2.06-.94-.94-2.06-.94 2.06-2.06.94z\"/><path d=\"M17.41 7.96l-1.37-1.37c-.4-.4-.92-.59-1.43-.59-.52 0-1.04.2-1.43.59L10.3 9.45l-7.72 7.72c-.78.78-.78 2.05 0 2.83L4 21.41c.39.39.9.59 1.41.59.51 0 1.02-.2 1.41-.59l7.78-7.78 2.81-2.81c.8-.78.8-2.07 0-2.86zM5.41 20L4 18.59l7.72-7.72 1.47 1.35L5.41 20z\"/>\n",
              "  </svg>\n",
              "      </button>\n",
              "      \n",
              "  <style>\n",
              "    .colab-df-container {\n",
              "      display:flex;\n",
              "      flex-wrap:wrap;\n",
              "      gap: 12px;\n",
              "    }\n",
              "\n",
              "    .colab-df-convert {\n",
              "      background-color: #E8F0FE;\n",
              "      border: none;\n",
              "      border-radius: 50%;\n",
              "      cursor: pointer;\n",
              "      display: none;\n",
              "      fill: #1967D2;\n",
              "      height: 32px;\n",
              "      padding: 0 0 0 0;\n",
              "      width: 32px;\n",
              "    }\n",
              "\n",
              "    .colab-df-convert:hover {\n",
              "      background-color: #E2EBFA;\n",
              "      box-shadow: 0px 1px 2px rgba(60, 64, 67, 0.3), 0px 1px 3px 1px rgba(60, 64, 67, 0.15);\n",
              "      fill: #174EA6;\n",
              "    }\n",
              "\n",
              "    [theme=dark] .colab-df-convert {\n",
              "      background-color: #3B4455;\n",
              "      fill: #D2E3FC;\n",
              "    }\n",
              "\n",
              "    [theme=dark] .colab-df-convert:hover {\n",
              "      background-color: #434B5C;\n",
              "      box-shadow: 0px 1px 3px 1px rgba(0, 0, 0, 0.15);\n",
              "      filter: drop-shadow(0px 1px 2px rgba(0, 0, 0, 0.3));\n",
              "      fill: #FFFFFF;\n",
              "    }\n",
              "  </style>\n",
              "\n",
              "      <script>\n",
              "        const buttonEl =\n",
              "          document.querySelector('#df-00e2f441-ca18-4e7a-8c10-2a743c738fd7 button.colab-df-convert');\n",
              "        buttonEl.style.display =\n",
              "          google.colab.kernel.accessAllowed ? 'block' : 'none';\n",
              "\n",
              "        async function convertToInteractive(key) {\n",
              "          const element = document.querySelector('#df-00e2f441-ca18-4e7a-8c10-2a743c738fd7');\n",
              "          const dataTable =\n",
              "            await google.colab.kernel.invokeFunction('convertToInteractive',\n",
              "                                                     [key], {});\n",
              "          if (!dataTable) return;\n",
              "\n",
              "          const docLinkHtml = 'Like what you see? Visit the ' +\n",
              "            '<a target=\"_blank\" href=https://colab.research.google.com/notebooks/data_table.ipynb>data table notebook</a>'\n",
              "            + ' to learn more about interactive tables.';\n",
              "          element.innerHTML = '';\n",
              "          dataTable['output_type'] = 'display_data';\n",
              "          await google.colab.output.renderOutput(dataTable, element);\n",
              "          const docLink = document.createElement('div');\n",
              "          docLink.innerHTML = docLinkHtml;\n",
              "          element.appendChild(docLink);\n",
              "        }\n",
              "      </script>\n",
              "    </div>\n",
              "  </div>\n",
              "  "
            ]
          },
          "metadata": {},
          "execution_count": 30
        }
      ]
    },
    {
      "cell_type": "markdown",
      "source": [
        "Comparemos las instancias de entidades entre personas:"
      ],
      "metadata": {
        "id": "s6p33JyIANDR"
      }
    },
    {
      "cell_type": "code",
      "source": [
        "print(\"ENTRADA: OHIGGINS\")\n",
        "print(df_padres[df_padres[\"persona\"] == \"Bernardo O'Higgins\"].value_counts(\"texto\").head(10), \"\\n\")\n",
        "print(\"ENTRADA: RODRIGUEZ\")\n",
        "print(df_padres[df_padres[\"persona\"] == \"Manuel Rodríguez Erdoíza\"].value_counts(\"texto\").head(10), \"\\n\")\n",
        "print(\"ENTRADA: CARRERA\")\n",
        "print(df_padres[df_padres[\"persona\"] == \"José Miguel Carrera\"].value_counts(\"texto\").head(10))"
      ],
      "metadata": {
        "id": "hLVggwdk4VEc"
      },
      "execution_count": null,
      "outputs": []
    },
    {
      "cell_type": "markdown",
      "source": [
        "### Ejercicio 3: compara los verbos (VERB), adverbios (ADV) y adjetivos (ADJ) utilizados en un conjunto de textos de tu elección\n",
        "\n",
        "Comúnente, los **verbos**, cuyo POS es VERB, suelen referir a acciones, procesos o estados que afectan o realizan los sustantivos (p.ej. *el gato comió*). Esta clase de palabras es central en el lenguaje humano, en tanto nos indica qué está pasando en un texto. \n",
        "\n",
        "De igual forma, los **adverbios**, cuyo POS es ADV, tienen una función similar a los adjetivos: modificar a un verbo (p.ej. *el gato comió rápidamente*). En este sentido, son claves para comprender **cómo ocurren los procesos o acciones del texto**. \n",
        "\n",
        "Imaginemos un conjunto de comentarios sobre una película. La audiencia podría decirnos que \"la película **avanza muy lento**\", \"Timothee Chalamet **actuó increíblemente**\" o que \"el final **era claramente** predecible\". \n",
        "\n",
        "Con todo lo que hemos visto hasta ahora, **crea patrones que te permitan comparar tres textos diferentes, guárdandolos en un DataFrame que te permita ver el conteo de palabras entre categorías**. Apóyate del código que ya has escrito anteriormente."
      ],
      "metadata": {
        "id": "X8x7zNIKA6rL"
      }
    },
    {
      "cell_type": "code",
      "source": [
        "# Escribe tu código acá\n",
        "\n",
        "# Llama al matcher\n",
        "\n",
        "# Crea los patrones\n",
        "\n",
        "# añade los patrones al matcher\n",
        "\n",
        "# Indica las páginas de wikipedia que buscaras\n",
        "\n",
        "# Itera sobre las páginas y cárgalas en un nlp\n",
        "\n",
        "# Itera sobre los matches y añádelos al vocabulario del doc\n",
        "\n",
        "# Crea y pobla el DataFrame con la página, el texto y la entidad\n",
        "\n",
        "# Visualiza el la frecuencia de cada categoría y página\n",
        "\n"
      ],
      "metadata": {
        "id": "sMJceax7ECe6"
      },
      "execution_count": null,
      "outputs": []
    },
    {
      "cell_type": "markdown",
      "source": [
        "## Algunos análisis finales\n",
        "\n",
        "Por medio del hermano menor de `spaCy`, `textaCy`, podemos realizar algunos análisis fácil y rápido. "
      ],
      "metadata": {
        "id": "Mz0xVfiGfohX"
      }
    },
    {
      "cell_type": "markdown",
      "source": [
        "### Extracción de keywords con YAKE\n",
        "\n",
        "Por ejemplo, la celda siguiente ejecuta una extracción de palabras claves con el [algoritmo YAKE](https://github.com/LIAAD/yake). Con este algoritmo **no supervisado**,**independiente de corpus, dominio y lenguaje** y **orientado a documentos individuales**, nos ayudará a extraer rápidamente las palabras claves a partir de la extracción de rasgos."
      ],
      "metadata": {
        "id": "ABdvt52q5kfQ"
      }
    },
    {
      "cell_type": "code",
      "source": [
        "TEXTO = \"José Miguel de la Carrera y Verdugo (Santiago, 15 de octubre de 1785 ​- Mendoza, 4 de septiembre de 1821) fue un político y militar chileno, prócer de la emancipación de Chile y destacado participante en las guerras de independencia. Es reconocido como uno de los «padres de la Patria de Chile», jefe de gobierno, el primer general en jefe del Ejército y el primer caudillo en la historia republicana de dicho país, y uno de los primeros de América.\"\n",
        "doc = textacy.make_spacy_doc(TEXTO, lang=\"es_core_news_md\")\n",
        "print(\"KEYWORD\", \"\\t\", \"YAKE SCORE\")\n",
        "list(kt.yake(doc, normalize=\"lemma\"))"
      ],
      "metadata": {
        "id": "X9X5QXDO0GQ9"
      },
      "execution_count": null,
      "outputs": []
    },
    {
      "cell_type": "markdown",
      "source": [
        "A partir de la celda anterior, notamos que, a menor el Yake Score, más relevante es la palabra en el documento (en este caso, *José Miguel*).\n",
        "\n",
        "Dado que este algoritmo nos devuelve una lista de tuplas, donde la posición `0` es la keyword y la `1` el Yake Score, podemos iterar sobre esta y almacenarla en una DataFrame mucho más manejable:"
      ],
      "metadata": {
        "id": "qWvX_7x_2Vsw"
      }
    },
    {
      "cell_type": "code",
      "source": [
        "# Establece las páginas de wikipedia a buscar\n",
        "padres_de_la_patria = [\"Bernardo O'Higgins\", \"José Miguel Carrera\", \"Manuel Rodríguez Erdoíza\"]\n",
        "\n",
        "# Crea una lista vacía para construir el DataFrame\n",
        "padres_yake_array = []\n",
        "for persona in padres_de_la_patria:\n",
        "  print(persona)\n",
        "\n",
        "  # Realiza la llamada a wikipedia\n",
        "  wiki = wikipedia.page(persona)\n",
        "  doc = textacy.make_spacy_doc(wiki.content, lang=\"es_core_news_md\")\n",
        "  \n",
        "  yake_list = list(kt.yake(doc, normalize=\"lemma\"))\n",
        "\n",
        "  # Itera sobre la yake_list y separa la tupla entre keyword y yake para cada documento `persona`\n",
        "  for palabra in yake_list:\n",
        "    padres_yake_array.append(\n",
        "        {\n",
        "          \"persona\": persona,\n",
        "          \"keyword\": palabra[0],\n",
        "          \"yake\": palabra[1]\n",
        "        }\n",
        "    )\n",
        "\n",
        "pd.DataFrame(padres_yake_array)"
      ],
      "metadata": {
        "id": "IFQ5U9AvV7r6"
      },
      "execution_count": null,
      "outputs": []
    },
    {
      "cell_type": "markdown",
      "source": [
        "### Extracción de la estructura oracional Sujeto-Verbo-Predicado\n",
        "\n",
        "Para otros casos de uso, la extracción de la estructura oracional entre **sujeto, verbo y predicado (SVP)** puede ser útil. Con la función `extract.triples.subject_verb_object_triples` de `textaCy` podemos lograr esto:"
      ],
      "metadata": {
        "id": "M94Ci0Ouf_jb"
      }
    },
    {
      "cell_type": "code",
      "source": [
        "\n",
        "# Establece las páginas de wikipedia a buscar\n",
        "padres_de_la_patria = [\"Bernardo O'Higgins\", \"José Miguel Carrera\", \"Manuel Rodríguez Erdoíza\"]\n",
        "\n",
        "# Crea una lista vacía para construir el DataFrame\n",
        "padres_SVP_array = []\n",
        "for persona in padres_de_la_patria:\n",
        "  print(persona)\n",
        "\n",
        "  # Realiza la llamada a wikipedia\n",
        "  wiki = wikipedia.page(persona)\n",
        "  doc = textacy.make_spacy_doc(wiki.content, lang=\"es_core_news_md\")\n",
        "  \n",
        "  SVP_list = list(extract.triples.subject_verb_object_triples(doc))\n",
        "\n",
        "  # Si tiene dos o más palabras el verbo, será compuesto. Caso contrario, es un verbo simple\n",
        "  for palabra in SVP_list:\n",
        "    if len(palabra[1]) >= 2:\n",
        "      tipo_verbo = \"compuesto\"\n",
        "    else:\n",
        "      tipo_verbo = \"simple\"\n",
        "    \n",
        "    # Guarda los resultados en el DataFrame padres_SVP\n",
        "    padres_SVP_array.append(\n",
        "        {\n",
        "          \"persona\": persona,\n",
        "          \"sujeto\": str(palabra[0]),\n",
        "          \"verbo\": str(palabra[1]),\n",
        "          \"predicado\": str(palabra[2]),\n",
        "          \"tipo_verbo\": tipo_verbo\n",
        "        }\n",
        "    )\n",
        "\n",
        "padres_SVP = pd.DataFrame(padres_SVP_array)"
      ],
      "metadata": {
        "id": "_EAudjxMcTuR"
      },
      "execution_count": null,
      "outputs": []
    },
    {
      "cell_type": "markdown",
      "source": [
        "Con este código podemos, por ejemplo, visualizar verticalmente las oraciones con verbos compuestos (e.g. *habría decidido*) vs las oraciones con verbos simples (e.g. *decidió*). Esto nos ayuda a mirar, al menos inicialmente, que tanto Bernardo O'Higgins como Carrera son representados como agentes en sus entradas de Wikipedia (es decir, son ellos quienes realizan las acciones y modifican los eventos del predicado), mientras que Rodríguez tiene casos donde es mostrado como pasivo, sufriendo los efectos de otros sobre él (e.g. *otros acusaron a Manuel y Carlos*)."
      ],
      "metadata": {
        "id": "KhKV2KiO_AOD"
      }
    },
    {
      "cell_type": "code",
      "source": [
        "padres_SVP[padres_SVP[\"tipo_verbo\"] == \"compuesto\"]"
      ],
      "metadata": {
        "id": "pNCOSz20-AQc"
      },
      "execution_count": null,
      "outputs": []
    },
    {
      "cell_type": "markdown",
      "source": [
        "Por lo general, la estructura oracional nos puede ayudar a visualizar rápidamente **quién realiza una acción**, **cuál acción se ejecuta** y **sobre qué se realiza la acción**. Además, por lo general, los elementos en la posición `SUJETO` suelen ser los temas centrales sobre los que se hablan en el texto, dando más información sobre estos. "
      ],
      "metadata": {
        "id": "x4OXIgov37rj"
      }
    },
    {
      "cell_type": "markdown",
      "source": [
        "Esto, ciertamente, nos ayuda a dar una visualización por arriba o clasificar los tipos de verbos, pero también podríamos atacar el problema de representación agente-recipiente con un patrón que identifique las oraciones activa (*el transporte afectó la calidad del produto*) y pasivas (*la calidad del producto fue afectada por el transporte*). "
      ],
      "metadata": {
        "id": "ztWTIgF3_50b"
      }
    },
    {
      "cell_type": "markdown",
      "source": [
        "## Ejercicio final: todo a la parrilla\n",
        "\n",
        "Hasta este punto, hemos revisado varias herramientas útiles para la transformación de datos no estructurados en datos estructurados. Hemos construido DataFrames con `pandas`, creado y extraído entidades nuevas con `spaCy`, obtenido las frecuencias de entidades y palabras con `spaCy` y `pandas` y revisado las keywords y la estructura oracional con `textacy`. **Ahora es momento de poner todo en la juguera**.\n",
        "\n",
        "\n",
        "Con todas las herramientas que has visto hasta el momento (incluyendo todo lo que ya sepas desde antes), **transforma un conjunto de datos de Wikipedia en una DataFrame y realiza un análisis a partir de estos datos**. \n",
        "\n",
        "Intenta ocupar todas las herramientas vistas hasta el momento. Además, si conoces métodos de visualización de datos o métodos estadísticos, eres libre de ocuparlos para que te entreguen aún más información sobre el texto. \n",
        "\n",
        "Cuando estén listos con sus análisis, súbanlos al siguiente tablero de Miro: https://miro.com/app/board/uXjVPt7Gpfk=/?share_link_id=32129012151"
      ],
      "metadata": {
        "id": "sttDnBMQgSR9"
      }
    }
  ]
}